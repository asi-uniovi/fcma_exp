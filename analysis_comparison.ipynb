{
 "cells": [
  {
   "cell_type": "markdown",
   "metadata": {},
   "source": [
    "# Introduction\n",
    "\n",
    "Comparison between Conlloovia and FCMA."
   ]
  },
  {
   "cell_type": "code",
   "execution_count": 1,
   "metadata": {
    "metadata": {}
   },
   "outputs": [],
   "source": [
    "import pandas as pd\n",
    "import matplotlib.lines as mlines\n",
    "import matplotlib.pyplot as plt\n",
    "import seaborn as sns"
   ]
  },
  {
   "cell_type": "code",
   "execution_count": 2,
   "metadata": {
    "metadata": {}
   },
   "outputs": [
    {
     "data": {
      "application/vnd.microsoft.datawrangler.viewer.v0+json": {
       "columns": [
        {
         "name": "index",
         "rawType": "int64",
         "type": "integer"
        },
        {
         "name": "exp",
         "rawType": "int64",
         "type": "integer"
        },
        {
         "name": "napps",
         "rawType": "int64",
         "type": "integer"
        },
        {
         "name": "n_fam",
         "rawType": "int64",
         "type": "integer"
        },
        {
         "name": "cores",
         "rawType": "float64",
         "type": "float"
        },
        {
         "name": "mem_mul",
         "rawType": "int64",
         "type": "integer"
        },
        {
         "name": "perf",
         "rawType": "float64",
         "type": "float"
        },
        {
         "name": "frac_gap",
         "rawType": "float64",
         "type": "float"
        },
        {
         "name": "add_ccs",
         "rawType": "bool",
         "type": "boolean"
        },
        {
         "name": "Conlloovia_vars",
         "rawType": "int64",
         "type": "integer"
        },
        {
         "name": "Conlloovia_status",
         "rawType": "object",
         "type": "string"
        },
        {
         "name": "Conlloovia_lower_bound_d_h",
         "rawType": "float64",
         "type": "float"
        },
        {
         "name": "All_lower_bound_d_h_0.5",
         "rawType": "float64",
         "type": "float"
        },
        {
         "name": "Conlloovia_cost_d_h",
         "rawType": "float64",
         "type": "float"
        },
        {
         "name": "FFC_cost_d_h",
         "rawType": "float64",
         "type": "float"
        },
        {
         "name": "FFP_cost_d_h",
         "rawType": "float64",
         "type": "float"
        },
        {
         "name": "Fcma_1_0.5_cost_d_h",
         "rawType": "float64",
         "type": "float"
        },
        {
         "name": "Conlloovia_creation_time_s",
         "rawType": "float64",
         "type": "float"
        },
        {
         "name": "Conlloovia_solving_time_s",
         "rawType": "float64",
         "type": "float"
        },
        {
         "name": "FFC_creation_time_s",
         "rawType": "float64",
         "type": "float"
        },
        {
         "name": "FFC_solving_time_s",
         "rawType": "float64",
         "type": "float"
        },
        {
         "name": "FFP_creation_time_s",
         "rawType": "float64",
         "type": "float"
        },
        {
         "name": "FFP_solving_time_s",
         "rawType": "float64",
         "type": "float"
        },
        {
         "name": "Fcma_1_0.5_pre_alloc_time_s",
         "rawType": "float64",
         "type": "float"
        },
        {
         "name": "Fcma_1_0.5_alloc_time_s",
         "rawType": "float64",
         "type": "float"
        },
        {
         "name": "Conlloovia_fault_tolerance_m_e_0.5",
         "rawType": "float64",
         "type": "float"
        },
        {
         "name": "FFC_fault_tolerance_m_e_0.5",
         "rawType": "float64",
         "type": "float"
        },
        {
         "name": "FFP_fault_tolerance_m_e_0.5",
         "rawType": "float64",
         "type": "float"
        },
        {
         "name": "Fcma_1_0.5_fault_tolerance_m",
         "rawType": "float64",
         "type": "float"
        },
        {
         "name": "Conlloovia_isolation_m",
         "rawType": "float64",
         "type": "float"
        },
        {
         "name": "FFC_isolation_m",
         "rawType": "float64",
         "type": "float"
        },
        {
         "name": "FFP_isolation_m",
         "rawType": "float64",
         "type": "float"
        },
        {
         "name": "Fcma_1_0.5_isolation_m",
         "rawType": "float64",
         "type": "float"
        },
        {
         "name": "Conlloovia_vm_recycling_m",
         "rawType": "float64",
         "type": "float"
        },
        {
         "name": "FFC_vm_recycling_m",
         "rawType": "float64",
         "type": "float"
        },
        {
         "name": "FFP_vm_recycling_m",
         "rawType": "float64",
         "type": "float"
        },
        {
         "name": "Fcma_1_0.5_vm_recycling_m",
         "rawType": "float64",
         "type": "float"
        },
        {
         "name": "Conlloovia_vm_load_balance_m",
         "rawType": "float64",
         "type": "float"
        },
        {
         "name": "FFC_vm_load_balance_m",
         "rawType": "float64",
         "type": "float"
        },
        {
         "name": "FFP_vm_load_balance_m",
         "rawType": "float64",
         "type": "float"
        },
        {
         "name": "Fcma_1_0.5_vm_load_balance_m",
         "rawType": "float64",
         "type": "float"
        }
       ],
       "conversionMethod": "pd.DataFrame",
       "ref": "ce06fbde-90e9-4146-a53a-5fbe647dd077",
       "rows": [
        [
         "0",
         "0",
         "1",
         "1",
         "0.12",
         "2",
         "0.02",
         "0.02",
         "False",
         "1365",
         "OPTIMAL",
         "4.149",
         "4.224",
         "4.224",
         "4.6080000000000005",
         "4.224000000000002",
         "4.224",
         "0.086",
         "0.2111",
         "0.0014",
         "0.0783",
         "0.0015",
         "0.0985",
         "0.1078",
         "0.0049",
         "0.0",
         "0.0",
         "1.0",
         "0.0",
         "0.135",
         "0.0028735632183908",
         "0.1278409090909091",
         "0.0763888888888889",
         "0.0",
         "0.0",
         "0.0",
         "0.0",
         "0.25",
         "1.0",
         "0.0227272727272727",
         "0.5"
        ],
        [
         "1",
         "1",
         "1",
         "1",
         "0.12",
         "2",
         "0.4",
         "0.02",
         "False",
         "120",
         "OPTIMAL",
         "0.096",
         "0.096",
         "0.096",
         "0.096",
         "0.096",
         "0.096",
         "0.0086",
         "0.0136",
         "0.0013",
         "0.0076",
         "0.0013",
         "0.0067",
         "0.0143",
         "0.0029",
         "0.0",
         "0.0",
         "0.0",
         "0.0",
         "0.2",
         "1.0",
         "1.0",
         "1.0",
         "1.0",
         "1.0",
         "1.0",
         "1.0",
         "1.0",
         "1.0",
         "1.0",
         "1.0"
        ],
        [
         "2",
         "2",
         "1",
         "1",
         "0.12",
         "8",
         "0.02",
         "0.02",
         "False",
         "260",
         "OPTIMAL",
         "0.5760000000000001",
         "0.5760000000000001",
         "0.5760000000000001",
         "0.856",
         "0.96",
         "0.5760000000000001",
         "0.0172",
         "0.0342",
         "0.0013",
         "0.0187",
         "0.0014",
         "0.0229",
         "0.0146",
         "0.0064",
         "1.0",
         "0.0",
         "1.0",
         "0.0",
         "0.42",
         "0.0181818181818181",
         "0.25",
         "0.225",
         "0.3333333333333333",
         "1.0",
         "0.0",
         "1.0",
         "0.2",
         "1.0",
         "0.1",
         "0.5"
        ],
        [
         "3",
         "3",
         "1",
         "1",
         "0.12",
         "8",
         "0.4",
         "0.02",
         "False",
         "120",
         "OPTIMAL",
         "0.096",
         "0.096",
         "0.096",
         "0.096",
         "0.096",
         "0.096",
         "0.0086",
         "0.0132",
         "0.0013",
         "0.0081",
         "0.0013",
         "0.0071",
         "0.0148",
         "0.0034",
         "0.0",
         "0.0",
         "0.0",
         "0.0",
         "0.5",
         "0.3333333333333333",
         "0.3333333333333333",
         "0.5",
         "1.0",
         "1.0",
         "1.0",
         "1.0",
         "1.0",
         "1.0",
         "1.0",
         "1.0"
        ],
        [
         "4",
         "4",
         "1",
         "1",
         "3.0",
         "2",
         "0.02",
         "0.02",
         "False",
         "999",
         "OPTIMAL",
         "18.3168",
         "18.624",
         "18.624",
         "18.816000000000003",
         "20.35200000000001",
         "19.008000000000003",
         "0.067",
         "0.1293",
         "0.001",
         "0.0228",
         "0.001",
         "0.0414",
         "0.0198",
         "0.0392",
         "1.0",
         "1.0",
         "1.0",
         "1.0",
         "0.3291666666666666",
         "0.2615384615384615",
         "1.0",
         "0.4421768707482992",
         "0.0",
         "0.979591836734694",
         "0.0",
         "1.0",
         "0.125",
         "0.2",
         "0.0188679245283018",
         "0.1428571428571428"
        ]
       ],
       "shape": {
        "columns": 40,
        "rows": 5
       }
      },
      "text/html": [
       "<div>\n",
       "<style scoped>\n",
       "    .dataframe tbody tr th:only-of-type {\n",
       "        vertical-align: middle;\n",
       "    }\n",
       "\n",
       "    .dataframe tbody tr th {\n",
       "        vertical-align: top;\n",
       "    }\n",
       "\n",
       "    .dataframe thead th {\n",
       "        text-align: right;\n",
       "    }\n",
       "</style>\n",
       "<table border=\"1\" class=\"dataframe\">\n",
       "  <thead>\n",
       "    <tr style=\"text-align: right;\">\n",
       "      <th></th>\n",
       "      <th>exp</th>\n",
       "      <th>napps</th>\n",
       "      <th>n_fam</th>\n",
       "      <th>cores</th>\n",
       "      <th>mem_mul</th>\n",
       "      <th>perf</th>\n",
       "      <th>frac_gap</th>\n",
       "      <th>add_ccs</th>\n",
       "      <th>Conlloovia_vars</th>\n",
       "      <th>Conlloovia_status</th>\n",
       "      <th>...</th>\n",
       "      <th>FFP_isolation_m</th>\n",
       "      <th>Fcma_1_0.5_isolation_m</th>\n",
       "      <th>Conlloovia_vm_recycling_m</th>\n",
       "      <th>FFC_vm_recycling_m</th>\n",
       "      <th>FFP_vm_recycling_m</th>\n",
       "      <th>Fcma_1_0.5_vm_recycling_m</th>\n",
       "      <th>Conlloovia_vm_load_balance_m</th>\n",
       "      <th>FFC_vm_load_balance_m</th>\n",
       "      <th>FFP_vm_load_balance_m</th>\n",
       "      <th>Fcma_1_0.5_vm_load_balance_m</th>\n",
       "    </tr>\n",
       "  </thead>\n",
       "  <tbody>\n",
       "    <tr>\n",
       "      <th>0</th>\n",
       "      <td>0</td>\n",
       "      <td>1</td>\n",
       "      <td>1</td>\n",
       "      <td>0.12</td>\n",
       "      <td>2</td>\n",
       "      <td>0.02</td>\n",
       "      <td>0.02</td>\n",
       "      <td>False</td>\n",
       "      <td>1365</td>\n",
       "      <td>OPTIMAL</td>\n",
       "      <td>...</td>\n",
       "      <td>0.127841</td>\n",
       "      <td>0.076389</td>\n",
       "      <td>0.000000</td>\n",
       "      <td>0.000000</td>\n",
       "      <td>0.0</td>\n",
       "      <td>0.0</td>\n",
       "      <td>0.250</td>\n",
       "      <td>1.0</td>\n",
       "      <td>0.022727</td>\n",
       "      <td>0.500000</td>\n",
       "    </tr>\n",
       "    <tr>\n",
       "      <th>1</th>\n",
       "      <td>1</td>\n",
       "      <td>1</td>\n",
       "      <td>1</td>\n",
       "      <td>0.12</td>\n",
       "      <td>2</td>\n",
       "      <td>0.40</td>\n",
       "      <td>0.02</td>\n",
       "      <td>False</td>\n",
       "      <td>120</td>\n",
       "      <td>OPTIMAL</td>\n",
       "      <td>...</td>\n",
       "      <td>1.000000</td>\n",
       "      <td>1.000000</td>\n",
       "      <td>1.000000</td>\n",
       "      <td>1.000000</td>\n",
       "      <td>1.0</td>\n",
       "      <td>1.0</td>\n",
       "      <td>1.000</td>\n",
       "      <td>1.0</td>\n",
       "      <td>1.000000</td>\n",
       "      <td>1.000000</td>\n",
       "    </tr>\n",
       "    <tr>\n",
       "      <th>2</th>\n",
       "      <td>2</td>\n",
       "      <td>1</td>\n",
       "      <td>1</td>\n",
       "      <td>0.12</td>\n",
       "      <td>8</td>\n",
       "      <td>0.02</td>\n",
       "      <td>0.02</td>\n",
       "      <td>False</td>\n",
       "      <td>260</td>\n",
       "      <td>OPTIMAL</td>\n",
       "      <td>...</td>\n",
       "      <td>0.250000</td>\n",
       "      <td>0.225000</td>\n",
       "      <td>0.333333</td>\n",
       "      <td>1.000000</td>\n",
       "      <td>0.0</td>\n",
       "      <td>1.0</td>\n",
       "      <td>0.200</td>\n",
       "      <td>1.0</td>\n",
       "      <td>0.100000</td>\n",
       "      <td>0.500000</td>\n",
       "    </tr>\n",
       "    <tr>\n",
       "      <th>3</th>\n",
       "      <td>3</td>\n",
       "      <td>1</td>\n",
       "      <td>1</td>\n",
       "      <td>0.12</td>\n",
       "      <td>8</td>\n",
       "      <td>0.40</td>\n",
       "      <td>0.02</td>\n",
       "      <td>False</td>\n",
       "      <td>120</td>\n",
       "      <td>OPTIMAL</td>\n",
       "      <td>...</td>\n",
       "      <td>0.333333</td>\n",
       "      <td>0.500000</td>\n",
       "      <td>1.000000</td>\n",
       "      <td>1.000000</td>\n",
       "      <td>1.0</td>\n",
       "      <td>1.0</td>\n",
       "      <td>1.000</td>\n",
       "      <td>1.0</td>\n",
       "      <td>1.000000</td>\n",
       "      <td>1.000000</td>\n",
       "    </tr>\n",
       "    <tr>\n",
       "      <th>4</th>\n",
       "      <td>4</td>\n",
       "      <td>1</td>\n",
       "      <td>1</td>\n",
       "      <td>3.00</td>\n",
       "      <td>2</td>\n",
       "      <td>0.02</td>\n",
       "      <td>0.02</td>\n",
       "      <td>False</td>\n",
       "      <td>999</td>\n",
       "      <td>OPTIMAL</td>\n",
       "      <td>...</td>\n",
       "      <td>1.000000</td>\n",
       "      <td>0.442177</td>\n",
       "      <td>0.000000</td>\n",
       "      <td>0.979592</td>\n",
       "      <td>0.0</td>\n",
       "      <td>1.0</td>\n",
       "      <td>0.125</td>\n",
       "      <td>0.2</td>\n",
       "      <td>0.018868</td>\n",
       "      <td>0.142857</td>\n",
       "    </tr>\n",
       "  </tbody>\n",
       "</table>\n",
       "<p>5 rows × 40 columns</p>\n",
       "</div>"
      ],
      "text/plain": [
       "   exp  napps  n_fam  cores  mem_mul  perf  frac_gap  add_ccs  \\\n",
       "0    0      1      1   0.12        2  0.02      0.02    False   \n",
       "1    1      1      1   0.12        2  0.40      0.02    False   \n",
       "2    2      1      1   0.12        8  0.02      0.02    False   \n",
       "3    3      1      1   0.12        8  0.40      0.02    False   \n",
       "4    4      1      1   3.00        2  0.02      0.02    False   \n",
       "\n",
       "   Conlloovia_vars Conlloovia_status  ...  FFP_isolation_m  \\\n",
       "0             1365           OPTIMAL  ...         0.127841   \n",
       "1              120           OPTIMAL  ...         1.000000   \n",
       "2              260           OPTIMAL  ...         0.250000   \n",
       "3              120           OPTIMAL  ...         0.333333   \n",
       "4              999           OPTIMAL  ...         1.000000   \n",
       "\n",
       "   Fcma_1_0.5_isolation_m  Conlloovia_vm_recycling_m  FFC_vm_recycling_m  \\\n",
       "0                0.076389                   0.000000            0.000000   \n",
       "1                1.000000                   1.000000            1.000000   \n",
       "2                0.225000                   0.333333            1.000000   \n",
       "3                0.500000                   1.000000            1.000000   \n",
       "4                0.442177                   0.000000            0.979592   \n",
       "\n",
       "   FFP_vm_recycling_m  Fcma_1_0.5_vm_recycling_m  \\\n",
       "0                 0.0                        0.0   \n",
       "1                 1.0                        1.0   \n",
       "2                 0.0                        1.0   \n",
       "3                 1.0                        1.0   \n",
       "4                 0.0                        1.0   \n",
       "\n",
       "   Conlloovia_vm_load_balance_m  FFC_vm_load_balance_m  FFP_vm_load_balance_m  \\\n",
       "0                         0.250                    1.0               0.022727   \n",
       "1                         1.000                    1.0               1.000000   \n",
       "2                         0.200                    1.0               0.100000   \n",
       "3                         1.000                    1.0               1.000000   \n",
       "4                         0.125                    0.2               0.018868   \n",
       "\n",
       "   Fcma_1_0.5_vm_load_balance_m  \n",
       "0                      0.500000  \n",
       "1                      1.000000  \n",
       "2                      0.500000  \n",
       "3                      1.000000  \n",
       "4                      0.142857  \n",
       "\n",
       "[5 rows x 40 columns]"
      ]
     },
     "execution_count": 2,
     "metadata": {},
     "output_type": "execute_result"
    }
   ],
   "source": [
    "filename = \"data.csv\"\n",
    "df = pd.read_csv(filename)\n",
    "df.head()"
   ]
  },
  {
   "cell_type": "code",
   "execution_count": 3,
   "metadata": {},
   "outputs": [],
   "source": [
    "# Simplify the name of the column All_lower_bound_d_h_0.5 to bound\n",
    "df = df.rename(columns={'All_lower_bound_d_h_0.5': 'bound'})"
   ]
  },
  {
   "cell_type": "code",
   "execution_count": 4,
   "metadata": {
    "metadata": {}
   },
   "outputs": [
    {
     "data": {
      "application/vnd.microsoft.datawrangler.viewer.v0+json": {
       "columns": [
        {
         "name": "index",
         "rawType": "int64",
         "type": "integer"
        },
        {
         "name": "exp",
         "rawType": "int64",
         "type": "integer"
        },
        {
         "name": "napps",
         "rawType": "int64",
         "type": "integer"
        },
        {
         "name": "n_fam",
         "rawType": "int64",
         "type": "integer"
        },
        {
         "name": "cores",
         "rawType": "float64",
         "type": "float"
        },
        {
         "name": "mem_mul",
         "rawType": "int64",
         "type": "integer"
        },
        {
         "name": "perf",
         "rawType": "float64",
         "type": "float"
        },
        {
         "name": "frac_gap",
         "rawType": "float64",
         "type": "float"
        },
        {
         "name": "add_ccs",
         "rawType": "bool",
         "type": "boolean"
        },
        {
         "name": "Conlloovia_vars",
         "rawType": "int64",
         "type": "integer"
        },
        {
         "name": "Conlloovia_status",
         "rawType": "object",
         "type": "string"
        },
        {
         "name": "Conlloovia_lower_bound_d_h",
         "rawType": "float64",
         "type": "float"
        },
        {
         "name": "bound",
         "rawType": "float64",
         "type": "float"
        },
        {
         "name": "Conlloovia_cost_d_h",
         "rawType": "float64",
         "type": "float"
        },
        {
         "name": "FFC_cost_d_h",
         "rawType": "float64",
         "type": "float"
        },
        {
         "name": "FFP_cost_d_h",
         "rawType": "float64",
         "type": "float"
        },
        {
         "name": "Fcma_1_0.5_cost_d_h",
         "rawType": "float64",
         "type": "float"
        },
        {
         "name": "Conlloovia_creation_time_s",
         "rawType": "float64",
         "type": "float"
        },
        {
         "name": "Conlloovia_solving_time_s",
         "rawType": "float64",
         "type": "float"
        },
        {
         "name": "FFC_creation_time_s",
         "rawType": "float64",
         "type": "float"
        },
        {
         "name": "FFC_solving_time_s",
         "rawType": "float64",
         "type": "float"
        },
        {
         "name": "FFP_creation_time_s",
         "rawType": "float64",
         "type": "float"
        },
        {
         "name": "FFP_solving_time_s",
         "rawType": "float64",
         "type": "float"
        },
        {
         "name": "Fcma_1_0.5_pre_alloc_time_s",
         "rawType": "float64",
         "type": "float"
        },
        {
         "name": "Fcma_1_0.5_alloc_time_s",
         "rawType": "float64",
         "type": "float"
        },
        {
         "name": "Conlloovia_fault_tolerance_m_e_0.5",
         "rawType": "float64",
         "type": "float"
        },
        {
         "name": "FFC_fault_tolerance_m_e_0.5",
         "rawType": "float64",
         "type": "float"
        },
        {
         "name": "FFP_fault_tolerance_m_e_0.5",
         "rawType": "float64",
         "type": "float"
        },
        {
         "name": "Fcma_1_0.5_fault_tolerance_m",
         "rawType": "float64",
         "type": "float"
        },
        {
         "name": "Conlloovia_isolation_m",
         "rawType": "float64",
         "type": "float"
        },
        {
         "name": "FFC_isolation_m",
         "rawType": "float64",
         "type": "float"
        },
        {
         "name": "FFP_isolation_m",
         "rawType": "float64",
         "type": "float"
        },
        {
         "name": "Fcma_1_0.5_isolation_m",
         "rawType": "float64",
         "type": "float"
        },
        {
         "name": "Conlloovia_vm_recycling_m",
         "rawType": "float64",
         "type": "float"
        },
        {
         "name": "FFC_vm_recycling_m",
         "rawType": "float64",
         "type": "float"
        },
        {
         "name": "FFP_vm_recycling_m",
         "rawType": "float64",
         "type": "float"
        },
        {
         "name": "Fcma_1_0.5_vm_recycling_m",
         "rawType": "float64",
         "type": "float"
        },
        {
         "name": "Conlloovia_vm_load_balance_m",
         "rawType": "float64",
         "type": "float"
        },
        {
         "name": "FFC_vm_load_balance_m",
         "rawType": "float64",
         "type": "float"
        },
        {
         "name": "FFP_vm_load_balance_m",
         "rawType": "float64",
         "type": "float"
        },
        {
         "name": "Fcma_1_0.5_vm_load_balance_m",
         "rawType": "float64",
         "type": "float"
        }
       ],
       "conversionMethod": "pd.DataFrame",
       "ref": "f6fa250d-d7a1-4ad8-88b1-626f06a1e4e2",
       "rows": [
        [
         "36",
         "36",
         "5",
         "1",
         "3.0",
         "2",
         "0.02",
         "0.02",
         "False",
         "143583",
         "ABORTED",
         "586.077",
         "587.5200000000001",
         null,
         "612.8639999999992",
         "866.3040000000186",
         "612.8639999999992",
         "8.9258",
         "601.7829",
         "0.0017",
         "0.7801",
         "0.0017",
         "1.623",
         "0.0428",
         "0.5824",
         null,
         "1.0",
         "1.0",
         "1.0",
         null,
         "0.0590133375603242",
         "1.0",
         "0.1113617376775268",
         null,
         "0.0",
         "0.0",
         "1.0",
         null,
         "0.1254698242933537",
         "0.0004432624113475",
         "0.1258304297328688"
        ],
        [
         "50",
         "50",
         "15",
         "1",
         "0.12",
         "8",
         "0.02",
         "0.02",
         "False",
         "254248",
         "ABORTED",
         "58.84992",
         "58.94400000000001",
         null,
         "73.296",
         "131.61600000000143",
         "58.94400000000002",
         "14.7754",
         "610.6816",
         "0.0037",
         "0.9694",
         "0.0038",
         "2.2483",
         "0.1093",
         "0.0999",
         null,
         "0.2",
         "1.0",
         "1.0",
         null,
         "0.0029733867568269",
         "0.3314612205203014",
         "0.044624668995465",
         null,
         "0.0",
         "0.0",
         "0.9609120521172638",
         null,
         "0.0769230769230769",
         "0.0012921244858648",
         "0.3066666666666667"
        ],
        [
         "52",
         "52",
         "15",
         "1",
         "3.0",
         "2",
         "0.02",
         "0.02",
         "False",
         "1096842",
         "ABORTED",
         "1450.068",
         "1451.1360000000002",
         null,
         "1497.5999999999892",
         "2690.3040000000874",
         "1496.4479999999892",
         "66.6869",
         "602.2633",
         "0.0033",
         "2.9481",
         "0.0032",
         "5.4782",
         "0.0907",
         "1.1848",
         null,
         "0.7333333333333333",
         "1.0",
         "1.0",
         null,
         "0.0470992464931756",
         "1.0",
         "0.0897169497169492",
         null,
         "0.0",
         "0.0",
         "0.9976905311778292",
         null,
         "0.058713765261958",
         "0.0001427347987439",
         "0.1620001022460038"
        ],
        [
         "54",
         "54",
         "15",
         "1",
         "3.0",
         "8",
         "0.02",
         "0.02",
         "False",
         "1100655",
         "ABORTED",
         "1720.6668",
         "1722.624",
         null,
         "2067.41399999999",
         "3147.4459999999603",
         "1770.6239999999875",
         "67.414",
         "655.8743",
         "0.0033",
         "3.2135",
         "0.0034",
         "42.9249",
         "0.0963",
         "7.3421",
         null,
         "0.9333333333333332",
         "1.0",
         "1.0",
         null,
         "0.0509181651935385",
         "1.0",
         "0.093071390690438",
         null,
         "0.0",
         "0.0",
         "0.9990062934746604",
         null,
         "0.0129180230567266",
         "0.0016323540603937",
         "0.0847149652823602"
        ],
        [
         "60",
         "60",
         "15",
         "4",
         "3.0",
         "2",
         "0.02",
         "0.02",
         "False",
         "2408607",
         "ABORTED",
         "122.655",
         "124.83656",
         null,
         "454.5753600000003",
         "1839.6000000000747",
         "127.75383999999998",
         "149.1134",
         "643.0258",
         "0.0085",
         "0.4381",
         "0.0081",
         "3.9437",
         "0.5333",
         "0.1672",
         null,
         "0.6",
         "1.0",
         "0.9333333333333332",
         null,
         "0.0449671863071895",
         "1.0",
         "0.2910590277777777",
         null,
         "0.0",
         "0.0",
         "0.9377845220030347",
         null,
         "0.1124783549783549",
         "0.0003086163864805",
         "0.2744444444444445"
        ]
       ],
       "shape": {
        "columns": 40,
        "rows": 5
       }
      },
      "text/html": [
       "<div>\n",
       "<style scoped>\n",
       "    .dataframe tbody tr th:only-of-type {\n",
       "        vertical-align: middle;\n",
       "    }\n",
       "\n",
       "    .dataframe tbody tr th {\n",
       "        vertical-align: top;\n",
       "    }\n",
       "\n",
       "    .dataframe thead th {\n",
       "        text-align: right;\n",
       "    }\n",
       "</style>\n",
       "<table border=\"1\" class=\"dataframe\">\n",
       "  <thead>\n",
       "    <tr style=\"text-align: right;\">\n",
       "      <th></th>\n",
       "      <th>exp</th>\n",
       "      <th>napps</th>\n",
       "      <th>n_fam</th>\n",
       "      <th>cores</th>\n",
       "      <th>mem_mul</th>\n",
       "      <th>perf</th>\n",
       "      <th>frac_gap</th>\n",
       "      <th>add_ccs</th>\n",
       "      <th>Conlloovia_vars</th>\n",
       "      <th>Conlloovia_status</th>\n",
       "      <th>...</th>\n",
       "      <th>FFP_isolation_m</th>\n",
       "      <th>Fcma_1_0.5_isolation_m</th>\n",
       "      <th>Conlloovia_vm_recycling_m</th>\n",
       "      <th>FFC_vm_recycling_m</th>\n",
       "      <th>FFP_vm_recycling_m</th>\n",
       "      <th>Fcma_1_0.5_vm_recycling_m</th>\n",
       "      <th>Conlloovia_vm_load_balance_m</th>\n",
       "      <th>FFC_vm_load_balance_m</th>\n",
       "      <th>FFP_vm_load_balance_m</th>\n",
       "      <th>Fcma_1_0.5_vm_load_balance_m</th>\n",
       "    </tr>\n",
       "  </thead>\n",
       "  <tbody>\n",
       "    <tr>\n",
       "      <th>36</th>\n",
       "      <td>36</td>\n",
       "      <td>5</td>\n",
       "      <td>1</td>\n",
       "      <td>3.00</td>\n",
       "      <td>2</td>\n",
       "      <td>0.02</td>\n",
       "      <td>0.02</td>\n",
       "      <td>False</td>\n",
       "      <td>143583</td>\n",
       "      <td>ABORTED</td>\n",
       "      <td>...</td>\n",
       "      <td>1.000000</td>\n",
       "      <td>0.111362</td>\n",
       "      <td>NaN</td>\n",
       "      <td>0.0</td>\n",
       "      <td>0.0</td>\n",
       "      <td>1.000000</td>\n",
       "      <td>NaN</td>\n",
       "      <td>0.125470</td>\n",
       "      <td>0.000443</td>\n",
       "      <td>0.125830</td>\n",
       "    </tr>\n",
       "    <tr>\n",
       "      <th>50</th>\n",
       "      <td>50</td>\n",
       "      <td>15</td>\n",
       "      <td>1</td>\n",
       "      <td>0.12</td>\n",
       "      <td>8</td>\n",
       "      <td>0.02</td>\n",
       "      <td>0.02</td>\n",
       "      <td>False</td>\n",
       "      <td>254248</td>\n",
       "      <td>ABORTED</td>\n",
       "      <td>...</td>\n",
       "      <td>0.331461</td>\n",
       "      <td>0.044625</td>\n",
       "      <td>NaN</td>\n",
       "      <td>0.0</td>\n",
       "      <td>0.0</td>\n",
       "      <td>0.960912</td>\n",
       "      <td>NaN</td>\n",
       "      <td>0.076923</td>\n",
       "      <td>0.001292</td>\n",
       "      <td>0.306667</td>\n",
       "    </tr>\n",
       "    <tr>\n",
       "      <th>52</th>\n",
       "      <td>52</td>\n",
       "      <td>15</td>\n",
       "      <td>1</td>\n",
       "      <td>3.00</td>\n",
       "      <td>2</td>\n",
       "      <td>0.02</td>\n",
       "      <td>0.02</td>\n",
       "      <td>False</td>\n",
       "      <td>1096842</td>\n",
       "      <td>ABORTED</td>\n",
       "      <td>...</td>\n",
       "      <td>1.000000</td>\n",
       "      <td>0.089717</td>\n",
       "      <td>NaN</td>\n",
       "      <td>0.0</td>\n",
       "      <td>0.0</td>\n",
       "      <td>0.997691</td>\n",
       "      <td>NaN</td>\n",
       "      <td>0.058714</td>\n",
       "      <td>0.000143</td>\n",
       "      <td>0.162000</td>\n",
       "    </tr>\n",
       "    <tr>\n",
       "      <th>54</th>\n",
       "      <td>54</td>\n",
       "      <td>15</td>\n",
       "      <td>1</td>\n",
       "      <td>3.00</td>\n",
       "      <td>8</td>\n",
       "      <td>0.02</td>\n",
       "      <td>0.02</td>\n",
       "      <td>False</td>\n",
       "      <td>1100655</td>\n",
       "      <td>ABORTED</td>\n",
       "      <td>...</td>\n",
       "      <td>1.000000</td>\n",
       "      <td>0.093071</td>\n",
       "      <td>NaN</td>\n",
       "      <td>0.0</td>\n",
       "      <td>0.0</td>\n",
       "      <td>0.999006</td>\n",
       "      <td>NaN</td>\n",
       "      <td>0.012918</td>\n",
       "      <td>0.001632</td>\n",
       "      <td>0.084715</td>\n",
       "    </tr>\n",
       "    <tr>\n",
       "      <th>60</th>\n",
       "      <td>60</td>\n",
       "      <td>15</td>\n",
       "      <td>4</td>\n",
       "      <td>3.00</td>\n",
       "      <td>2</td>\n",
       "      <td>0.02</td>\n",
       "      <td>0.02</td>\n",
       "      <td>False</td>\n",
       "      <td>2408607</td>\n",
       "      <td>ABORTED</td>\n",
       "      <td>...</td>\n",
       "      <td>1.000000</td>\n",
       "      <td>0.291059</td>\n",
       "      <td>NaN</td>\n",
       "      <td>0.0</td>\n",
       "      <td>0.0</td>\n",
       "      <td>0.937785</td>\n",
       "      <td>NaN</td>\n",
       "      <td>0.112478</td>\n",
       "      <td>0.000309</td>\n",
       "      <td>0.274444</td>\n",
       "    </tr>\n",
       "  </tbody>\n",
       "</table>\n",
       "<p>5 rows × 40 columns</p>\n",
       "</div>"
      ],
      "text/plain": [
       "    exp  napps  n_fam  cores  mem_mul  perf  frac_gap  add_ccs  \\\n",
       "36   36      5      1   3.00        2  0.02      0.02    False   \n",
       "50   50     15      1   0.12        8  0.02      0.02    False   \n",
       "52   52     15      1   3.00        2  0.02      0.02    False   \n",
       "54   54     15      1   3.00        8  0.02      0.02    False   \n",
       "60   60     15      4   3.00        2  0.02      0.02    False   \n",
       "\n",
       "    Conlloovia_vars Conlloovia_status  ...  FFP_isolation_m  \\\n",
       "36           143583           ABORTED  ...         1.000000   \n",
       "50           254248           ABORTED  ...         0.331461   \n",
       "52          1096842           ABORTED  ...         1.000000   \n",
       "54          1100655           ABORTED  ...         1.000000   \n",
       "60          2408607           ABORTED  ...         1.000000   \n",
       "\n",
       "    Fcma_1_0.5_isolation_m  Conlloovia_vm_recycling_m  FFC_vm_recycling_m  \\\n",
       "36                0.111362                        NaN                 0.0   \n",
       "50                0.044625                        NaN                 0.0   \n",
       "52                0.089717                        NaN                 0.0   \n",
       "54                0.093071                        NaN                 0.0   \n",
       "60                0.291059                        NaN                 0.0   \n",
       "\n",
       "    FFP_vm_recycling_m  Fcma_1_0.5_vm_recycling_m  \\\n",
       "36                 0.0                   1.000000   \n",
       "50                 0.0                   0.960912   \n",
       "52                 0.0                   0.997691   \n",
       "54                 0.0                   0.999006   \n",
       "60                 0.0                   0.937785   \n",
       "\n",
       "    Conlloovia_vm_load_balance_m  FFC_vm_load_balance_m  \\\n",
       "36                           NaN               0.125470   \n",
       "50                           NaN               0.076923   \n",
       "52                           NaN               0.058714   \n",
       "54                           NaN               0.012918   \n",
       "60                           NaN               0.112478   \n",
       "\n",
       "    FFP_vm_load_balance_m  Fcma_1_0.5_vm_load_balance_m  \n",
       "36               0.000443                      0.125830  \n",
       "50               0.001292                      0.306667  \n",
       "52               0.000143                      0.162000  \n",
       "54               0.001632                      0.084715  \n",
       "60               0.000309                      0.274444  \n",
       "\n",
       "[5 rows x 40 columns]"
      ]
     },
     "execution_count": 4,
     "metadata": {},
     "output_type": "execute_result"
    }
   ],
   "source": [
    "# If Conlloovia_status is ABORTED or CBC_ERROR, set the Conlloovia_cost_d_h to pd.Na\n",
    "df.loc[\n",
    "    df[\"Conlloovia_status\"].isin([\"ABORTED\", \"CBC_ERROR\"]), \"Conlloovia_cost_d_h\"\n",
    "] = pd.NA\n",
    "\n",
    "# If Conlloovia_status is CBC_ERROR, set the Conlloovia llower_bound_d_h to pd.Na\n",
    "df.loc[df[\"Conlloovia_status\"] == \"CBC_ERROR\", \"Conlloovia_lower_bound_d_h\"] = pd.NA\n",
    "\n",
    "df.loc[df[\"Conlloovia_status\"].isin([\"ABORTED\", \"CBC_ERROR\"])].head()"
   ]
  },
  {
   "cell_type": "code",
   "execution_count": 5,
   "metadata": {},
   "outputs": [],
   "source": [
    "# Create a new status column with these values:\n",
    "# - \"Optimal\" if Conlloovia_status is \"OPTIMAL\"\n",
    "# - \"Feasible\" if Conlloovia_status is \"INTEGER_FEASIBLE\"\n",
    "# - \"No solution\" if Conlloovia_status is \"ABORTED\" or \"CBC_ERROR\"\n",
    "df[\"Conlloovia status\"] = df[\"Conlloovia_status\"].map(\n",
    "    {\n",
    "        \"OPTIMAL\": \"Optimal\",\n",
    "        \"INTEGER_FEASIBLE\": \"Feasible\",\n",
    "        \"ABORTED\": \"No solution\",\n",
    "        \"CBC_ERROR\": \"No solution\",\n",
    "    }\n",
    ")\n",
    "\n",
    "# Create a new status column for an algorithm: \"Optimal\" if its cost is equal to\n",
    "# Conlloovia_cost_d_h and Conlloovia status is \"OPTIMAL\", or the algorithm cost is equal\n",
    "# to the lower bound; \"Feasible\" otherwise\n",
    "def heuristic_status(row, algo_cost_column):\n",
    "    if row[algo_cost_column] == row[\"Conlloovia_cost_d_h\"] and row[\"Conlloovia status\"] == \"Optimal\":\n",
    "        return \"Optimal\"\n",
    "    elif row[algo_cost_column] == row[\"bound\"]:\n",
    "        return \"Optimal\"\n",
    "    else:\n",
    "        return \"Feasible\"\n",
    "    \n",
    "# Create new status columns for FFC, FFP and FCMA\n",
    "df[\"FFC status\"] = df.apply(heuristic_status, algo_cost_column=\"FFC_cost_d_h\", axis=1)\n",
    "df[\"FFP status\"] = df.apply(heuristic_status, algo_cost_column=\"FFP_cost_d_h\", axis=1)\n",
    "df[\"FCMA status\"] = df.apply(heuristic_status, algo_cost_column=\"Fcma_1_0.5_cost_d_h\", axis=1)"
   ]
  },
  {
   "cell_type": "code",
   "execution_count": 6,
   "metadata": {
    "metadata": {}
   },
   "outputs": [],
   "source": [
    "# Compute the ratio of cost FCMA, FFC, and FFP to Conlloovia and the bound\n",
    "SPEEDS = [1]\n",
    "SFMPLS = [0.5]\n",
    "\n",
    "for speed in SPEEDS:\n",
    "    for sfmpl in SFMPLS:\n",
    "        df[f\"ratio_cost_fcma_{speed}_{sfmpl}_con\"] = df[f\"Fcma_{speed}_{sfmpl}_cost_d_h\"] / df[\n",
    "            \"Conlloovia_cost_d_h\"\n",
    "        ]\n",
    "df[f\"ratio_cost_fcma_bound\"] = df[f\"Fcma_1_0.5_cost_d_h\"] / df[\"bound\"]\n",
    "\n",
    "df[\"ratio_cost_ffc_con\"] = df[\"FFC_cost_d_h\"] / df[\"Conlloovia_cost_d_h\"]\n",
    "df[\"ratio_cost_ffp_con\"] = df[\"FFP_cost_d_h\"] / df[\"Conlloovia_cost_d_h\"]"
   ]
  },
  {
   "cell_type": "code",
   "execution_count": 7,
   "metadata": {},
   "outputs": [],
   "source": [
    "# Compute the ratio of cost of Conlloovia, FFC and FFP to FCMA\n",
    "SPEEDS = [1]\n",
    "SFMPLS = [0.5]\n",
    "\n",
    "for speed in SPEEDS:\n",
    "    for sfmpl in SFMPLS:\n",
    "        df[f\"ratio_cost_con_fcma_{speed}_{sfmpl}\"] = df[\"Conlloovia_cost_d_h\"] / df[\n",
    "            f\"Fcma_{speed}_{sfmpl}_cost_d_h\"\n",
    "        ]\n",
    "        df[f\"ratio_cost_ffc_fcma_{speed}_{sfmpl}\"] = df[\"FFC_cost_d_h\"] / df[\n",
    "            f\"Fcma_{speed}_{sfmpl}_cost_d_h\"\n",
    "        ]\n",
    "        df[f\"ratio_cost_ffp_fcma_{speed}_{sfmpl}\"] = df[\"FFP_cost_d_h\"] / df[\n",
    "            f\"Fcma_{speed}_{sfmpl}_cost_d_h\"\n",
    "        ]\n",
    "\n",
    "# Compute the ratio of cost of FCMA to the bound\n",
    "df[f\"ratio_cost_fcma_bound\"] = df[f\"Fcma_1_0.5_cost_d_h\"] / df[\"bound\"]"
   ]
  },
  {
   "cell_type": "code",
   "execution_count": 8,
   "metadata": {},
   "outputs": [],
   "source": [
    "# Compute total times\n",
    "df[\"Conlloovia_total_time_s\"] = df[\"Conlloovia_creation_time_s\"] + df[\"Conlloovia_solving_time_s\"]\n",
    "df[\"FFC_total_time_s\"] = df[\"FFC_creation_time_s\"] + df[\"FFC_solving_time_s\"]\n",
    "df[\"FFP_total_time_s\"] = df[\"FFP_creation_time_s\"] + df[\"FFP_solving_time_s\"]\n",
    "\n",
    "for speed in SPEEDS:\n",
    "    for sfmpl in SFMPLS:\n",
    "        df[f\"Fcma_{speed}_{sfmpl}_total_time_s\"] = df[f\"Fcma_{speed}_{sfmpl}_pre_alloc_time_s\"] + df[\n",
    "            f\"Fcma_{speed}_{sfmpl}_alloc_time_s\"\n",
    "        ]"
   ]
  },
  {
   "cell_type": "code",
   "execution_count": 9,
   "metadata": {},
   "outputs": [
    {
     "name": "stdout",
     "output_type": "stream",
     "text": [
      "             Conlloovia  FFC  FFP  FCMA\n",
      "Optimal              37    6    5    36\n",
      "Feasible             29   74   75    44\n",
      "No solution          14    0    0     0\n"
     ]
    }
   ],
   "source": [
    "\n",
    "# Show a table with the statuses in the rows and the number of scenarios for each status\n",
    "# of the different techniques. The order of the rows is \"Optimal\", \"Feasible\", \"No solution\".\n",
    "status_counts = []\n",
    "for technique in [\"Conlloovia\", \"FFC\", \"FFP\", \"FCMA\"]:\n",
    "    status_counts.append(df[f\"{technique} status\"].value_counts())\n",
    "\n",
    "# Concatenate the counts of the different techniques\n",
    "status_counts = pd.concat(status_counts, axis=1).fillna(0).astype(int)\n",
    "\n",
    "# Rename the columns\n",
    "status_counts.columns = [\"Conlloovia\", \"FFC\", \"FFP\", \"FCMA\"]\n",
    "\n",
    "print(status_counts)"
   ]
  },
  {
   "cell_type": "code",
   "execution_count": 10,
   "metadata": {},
   "outputs": [
    {
     "name": "stdout",
     "output_type": "stream",
     "text": [
      "\\begin{tabular}{lllll}\n",
      "\\toprule\n",
      " & FCMA & Conlloovia & FFC & FFP \\\\\n",
      "\\midrule\n",
      "Optimal & 36 (45.0\\%) & 37 (46.2\\%) & 6 (7.5\\%) & 5 (6.2\\%) \\\\\n",
      "Feasible & 44 (55.0\\%) & 29 (36.2\\%) & 74 (92.5\\%) & 75 (93.8\\%) \\\\\n",
      "No solution & 0 (0.0\\%) & 14 (17.5\\%) & 0 (0.0\\%) & 0 (0.0\\%) \\\\\n",
      "\\bottomrule\n",
      "\\end{tabular}\n",
      "\n"
     ]
    }
   ],
   "source": [
    "# Print a table in latex, with the count of statuses for each scenario and technique, but\n",
    "# adding in parenthesis the percentage of the total number of scenarios that each status\n",
    "# represents from the total number of scenarios, i.e., the sum of each column\n",
    "# Calculate percentages\n",
    "percentages = status_counts.div(status_counts.sum(axis=0), axis=1) * 100\n",
    "\n",
    "# Combine counts and percentages in the format \"count (percentage%)\"\n",
    "formatted_table = status_counts.astype(str) + \" (\" + percentages.round(1).astype(str) + \"%)\"\n",
    "\n",
    "# The order of the columns should be \"FCMA\", \"Conlloovia\", \"FFC\" and \"FFP\"\n",
    "formatted_table = formatted_table[[\"FCMA\", \"Conlloovia\", \"FFC\", \"FFP\"]]\n",
    "\n",
    "# Generate LaTeX code\n",
    "latex_code = formatted_table.to_latex(index=True, escape=True)\n",
    "print(latex_code)\n"
   ]
  },
  {
   "cell_type": "code",
   "execution_count": 11,
   "metadata": {},
   "outputs": [
    {
     "data": {
      "application/vnd.microsoft.datawrangler.viewer.v0+json": {
       "columns": [
        {
         "name": "index",
         "rawType": "int64",
         "type": "integer"
        },
        {
         "name": "exp",
         "rawType": "int64",
         "type": "integer"
        },
        {
         "name": "napps",
         "rawType": "int64",
         "type": "integer"
        },
        {
         "name": "n_fam",
         "rawType": "int64",
         "type": "integer"
        },
        {
         "name": "cores",
         "rawType": "float64",
         "type": "float"
        },
        {
         "name": "mem_mul",
         "rawType": "int64",
         "type": "integer"
        },
        {
         "name": "perf",
         "rawType": "float64",
         "type": "float"
        },
        {
         "name": "frac_gap",
         "rawType": "float64",
         "type": "float"
        },
        {
         "name": "add_ccs",
         "rawType": "bool",
         "type": "boolean"
        },
        {
         "name": "Conlloovia_vars",
         "rawType": "int64",
         "type": "integer"
        },
        {
         "name": "Conlloovia_status",
         "rawType": "object",
         "type": "string"
        },
        {
         "name": "Conlloovia_lower_bound_d_h",
         "rawType": "float64",
         "type": "float"
        },
        {
         "name": "bound",
         "rawType": "float64",
         "type": "float"
        },
        {
         "name": "Conlloovia_cost_d_h",
         "rawType": "float64",
         "type": "float"
        },
        {
         "name": "FFC_cost_d_h",
         "rawType": "float64",
         "type": "float"
        },
        {
         "name": "FFP_cost_d_h",
         "rawType": "float64",
         "type": "float"
        },
        {
         "name": "Fcma_1_0.5_cost_d_h",
         "rawType": "float64",
         "type": "float"
        },
        {
         "name": "Conlloovia_creation_time_s",
         "rawType": "float64",
         "type": "float"
        },
        {
         "name": "Conlloovia_solving_time_s",
         "rawType": "float64",
         "type": "float"
        },
        {
         "name": "FFC_creation_time_s",
         "rawType": "float64",
         "type": "float"
        },
        {
         "name": "FFC_solving_time_s",
         "rawType": "float64",
         "type": "float"
        },
        {
         "name": "FFP_creation_time_s",
         "rawType": "float64",
         "type": "float"
        },
        {
         "name": "FFP_solving_time_s",
         "rawType": "float64",
         "type": "float"
        },
        {
         "name": "Fcma_1_0.5_pre_alloc_time_s",
         "rawType": "float64",
         "type": "float"
        },
        {
         "name": "Fcma_1_0.5_alloc_time_s",
         "rawType": "float64",
         "type": "float"
        },
        {
         "name": "Conlloovia_fault_tolerance_m_e_0.5",
         "rawType": "float64",
         "type": "float"
        },
        {
         "name": "FFC_fault_tolerance_m_e_0.5",
         "rawType": "float64",
         "type": "float"
        },
        {
         "name": "FFP_fault_tolerance_m_e_0.5",
         "rawType": "float64",
         "type": "float"
        },
        {
         "name": "Fcma_1_0.5_fault_tolerance_m",
         "rawType": "float64",
         "type": "float"
        },
        {
         "name": "Conlloovia_isolation_m",
         "rawType": "float64",
         "type": "float"
        },
        {
         "name": "FFC_isolation_m",
         "rawType": "float64",
         "type": "float"
        },
        {
         "name": "FFP_isolation_m",
         "rawType": "float64",
         "type": "float"
        },
        {
         "name": "Fcma_1_0.5_isolation_m",
         "rawType": "float64",
         "type": "float"
        },
        {
         "name": "Conlloovia_vm_recycling_m",
         "rawType": "float64",
         "type": "float"
        },
        {
         "name": "FFC_vm_recycling_m",
         "rawType": "float64",
         "type": "float"
        },
        {
         "name": "FFP_vm_recycling_m",
         "rawType": "float64",
         "type": "float"
        },
        {
         "name": "Fcma_1_0.5_vm_recycling_m",
         "rawType": "float64",
         "type": "float"
        },
        {
         "name": "Conlloovia_vm_load_balance_m",
         "rawType": "float64",
         "type": "float"
        },
        {
         "name": "FFC_vm_load_balance_m",
         "rawType": "float64",
         "type": "float"
        },
        {
         "name": "FFP_vm_load_balance_m",
         "rawType": "float64",
         "type": "float"
        },
        {
         "name": "Fcma_1_0.5_vm_load_balance_m",
         "rawType": "float64",
         "type": "float"
        },
        {
         "name": "Conlloovia status",
         "rawType": "object",
         "type": "string"
        },
        {
         "name": "FFC status",
         "rawType": "object",
         "type": "string"
        },
        {
         "name": "FFP status",
         "rawType": "object",
         "type": "string"
        },
        {
         "name": "FCMA status",
         "rawType": "object",
         "type": "string"
        },
        {
         "name": "ratio_cost_fcma_1_0.5_con",
         "rawType": "float64",
         "type": "float"
        },
        {
         "name": "ratio_cost_fcma_bound",
         "rawType": "float64",
         "type": "float"
        },
        {
         "name": "ratio_cost_ffc_con",
         "rawType": "float64",
         "type": "float"
        },
        {
         "name": "ratio_cost_ffp_con",
         "rawType": "float64",
         "type": "float"
        },
        {
         "name": "ratio_cost_con_fcma_1_0.5",
         "rawType": "float64",
         "type": "float"
        },
        {
         "name": "ratio_cost_ffc_fcma_1_0.5",
         "rawType": "float64",
         "type": "float"
        },
        {
         "name": "ratio_cost_ffp_fcma_1_0.5",
         "rawType": "float64",
         "type": "float"
        },
        {
         "name": "Conlloovia_total_time_s",
         "rawType": "float64",
         "type": "float"
        },
        {
         "name": "FFC_total_time_s",
         "rawType": "float64",
         "type": "float"
        },
        {
         "name": "FFP_total_time_s",
         "rawType": "float64",
         "type": "float"
        },
        {
         "name": "Fcma_1_0.5_total_time_s",
         "rawType": "float64",
         "type": "float"
        }
       ],
       "conversionMethod": "pd.DataFrame",
       "ref": "0f86f1b4-7106-49f7-88b6-308218f061ec",
       "rows": [
        [
         "36",
         "36",
         "5",
         "1",
         "3.0",
         "2",
         "0.02",
         "0.02",
         "False",
         "143583",
         "ABORTED",
         "586.077",
         "587.5200000000001",
         null,
         "612.8639999999992",
         "866.3040000000186",
         "612.8639999999992",
         "8.9258",
         "601.7829",
         "0.0017",
         "0.7801",
         "0.0017",
         "1.623",
         "0.0428",
         "0.5824",
         null,
         "1.0",
         "1.0",
         "1.0",
         null,
         "0.0590133375603242",
         "1.0",
         "0.1113617376775268",
         null,
         "0.0",
         "0.0",
         "1.0",
         null,
         "0.1254698242933537",
         "0.0004432624113475",
         "0.1258304297328688",
         "No solution",
         "Feasible",
         "Feasible",
         "Feasible",
         null,
         "1.0431372549019593",
         null,
         null,
         null,
         "1.0",
         "1.4135338345864983",
         "610.7087",
         "0.7818",
         "1.6247",
         "0.6252"
        ]
       ],
       "shape": {
        "columns": 55,
        "rows": 1
       }
      },
      "text/html": [
       "<div>\n",
       "<style scoped>\n",
       "    .dataframe tbody tr th:only-of-type {\n",
       "        vertical-align: middle;\n",
       "    }\n",
       "\n",
       "    .dataframe tbody tr th {\n",
       "        vertical-align: top;\n",
       "    }\n",
       "\n",
       "    .dataframe thead th {\n",
       "        text-align: right;\n",
       "    }\n",
       "</style>\n",
       "<table border=\"1\" class=\"dataframe\">\n",
       "  <thead>\n",
       "    <tr style=\"text-align: right;\">\n",
       "      <th></th>\n",
       "      <th>exp</th>\n",
       "      <th>napps</th>\n",
       "      <th>n_fam</th>\n",
       "      <th>cores</th>\n",
       "      <th>mem_mul</th>\n",
       "      <th>perf</th>\n",
       "      <th>frac_gap</th>\n",
       "      <th>add_ccs</th>\n",
       "      <th>Conlloovia_vars</th>\n",
       "      <th>Conlloovia_status</th>\n",
       "      <th>...</th>\n",
       "      <th>ratio_cost_fcma_bound</th>\n",
       "      <th>ratio_cost_ffc_con</th>\n",
       "      <th>ratio_cost_ffp_con</th>\n",
       "      <th>ratio_cost_con_fcma_1_0.5</th>\n",
       "      <th>ratio_cost_ffc_fcma_1_0.5</th>\n",
       "      <th>ratio_cost_ffp_fcma_1_0.5</th>\n",
       "      <th>Conlloovia_total_time_s</th>\n",
       "      <th>FFC_total_time_s</th>\n",
       "      <th>FFP_total_time_s</th>\n",
       "      <th>Fcma_1_0.5_total_time_s</th>\n",
       "    </tr>\n",
       "  </thead>\n",
       "  <tbody>\n",
       "    <tr>\n",
       "      <th>36</th>\n",
       "      <td>36</td>\n",
       "      <td>5</td>\n",
       "      <td>1</td>\n",
       "      <td>3.0</td>\n",
       "      <td>2</td>\n",
       "      <td>0.02</td>\n",
       "      <td>0.02</td>\n",
       "      <td>False</td>\n",
       "      <td>143583</td>\n",
       "      <td>ABORTED</td>\n",
       "      <td>...</td>\n",
       "      <td>1.043137</td>\n",
       "      <td>NaN</td>\n",
       "      <td>NaN</td>\n",
       "      <td>NaN</td>\n",
       "      <td>1.0</td>\n",
       "      <td>1.413534</td>\n",
       "      <td>610.7087</td>\n",
       "      <td>0.7818</td>\n",
       "      <td>1.6247</td>\n",
       "      <td>0.6252</td>\n",
       "    </tr>\n",
       "  </tbody>\n",
       "</table>\n",
       "<p>1 rows × 55 columns</p>\n",
       "</div>"
      ],
      "text/plain": [
       "    exp  napps  n_fam  cores  mem_mul  perf  frac_gap  add_ccs  \\\n",
       "36   36      5      1    3.0        2  0.02      0.02    False   \n",
       "\n",
       "    Conlloovia_vars Conlloovia_status  ...  ratio_cost_fcma_bound  \\\n",
       "36           143583           ABORTED  ...               1.043137   \n",
       "\n",
       "    ratio_cost_ffc_con  ratio_cost_ffp_con  ratio_cost_con_fcma_1_0.5  \\\n",
       "36                 NaN                 NaN                        NaN   \n",
       "\n",
       "    ratio_cost_ffc_fcma_1_0.5  ratio_cost_ffp_fcma_1_0.5  \\\n",
       "36                        1.0                   1.413534   \n",
       "\n",
       "    Conlloovia_total_time_s  FFC_total_time_s  FFP_total_time_s  \\\n",
       "36                 610.7087            0.7818            1.6247   \n",
       "\n",
       "    Fcma_1_0.5_total_time_s  \n",
       "36                   0.6252  \n",
       "\n",
       "[1 rows x 55 columns]"
      ]
     },
     "execution_count": 11,
     "metadata": {},
     "output_type": "execute_result"
    }
   ],
   "source": [
    "# Find the smallest scenario where Conlloovia doesn't find a solution and the largest where it finds one\n",
    "df.loc[df[\"Conlloovia status\"] == \"No solution\"].sort_values(\"Conlloovia_vars\").head(1)"
   ]
  },
  {
   "cell_type": "code",
   "execution_count": 12,
   "metadata": {},
   "outputs": [
    {
     "data": {
      "application/vnd.microsoft.datawrangler.viewer.v0+json": {
       "columns": [
        {
         "name": "index",
         "rawType": "int64",
         "type": "integer"
        },
        {
         "name": "exp",
         "rawType": "int64",
         "type": "integer"
        },
        {
         "name": "napps",
         "rawType": "int64",
         "type": "integer"
        },
        {
         "name": "n_fam",
         "rawType": "int64",
         "type": "integer"
        },
        {
         "name": "cores",
         "rawType": "float64",
         "type": "float"
        },
        {
         "name": "mem_mul",
         "rawType": "int64",
         "type": "integer"
        },
        {
         "name": "perf",
         "rawType": "float64",
         "type": "float"
        },
        {
         "name": "frac_gap",
         "rawType": "float64",
         "type": "float"
        },
        {
         "name": "add_ccs",
         "rawType": "bool",
         "type": "boolean"
        },
        {
         "name": "Conlloovia_vars",
         "rawType": "int64",
         "type": "integer"
        },
        {
         "name": "Conlloovia_status",
         "rawType": "object",
         "type": "string"
        },
        {
         "name": "Conlloovia_lower_bound_d_h",
         "rawType": "float64",
         "type": "float"
        },
        {
         "name": "bound",
         "rawType": "float64",
         "type": "float"
        },
        {
         "name": "Conlloovia_cost_d_h",
         "rawType": "float64",
         "type": "float"
        },
        {
         "name": "FFC_cost_d_h",
         "rawType": "float64",
         "type": "float"
        },
        {
         "name": "FFP_cost_d_h",
         "rawType": "float64",
         "type": "float"
        },
        {
         "name": "Fcma_1_0.5_cost_d_h",
         "rawType": "float64",
         "type": "float"
        },
        {
         "name": "Conlloovia_creation_time_s",
         "rawType": "float64",
         "type": "float"
        },
        {
         "name": "Conlloovia_solving_time_s",
         "rawType": "float64",
         "type": "float"
        },
        {
         "name": "FFC_creation_time_s",
         "rawType": "float64",
         "type": "float"
        },
        {
         "name": "FFC_solving_time_s",
         "rawType": "float64",
         "type": "float"
        },
        {
         "name": "FFP_creation_time_s",
         "rawType": "float64",
         "type": "float"
        },
        {
         "name": "FFP_solving_time_s",
         "rawType": "float64",
         "type": "float"
        },
        {
         "name": "Fcma_1_0.5_pre_alloc_time_s",
         "rawType": "float64",
         "type": "float"
        },
        {
         "name": "Fcma_1_0.5_alloc_time_s",
         "rawType": "float64",
         "type": "float"
        },
        {
         "name": "Conlloovia_fault_tolerance_m_e_0.5",
         "rawType": "float64",
         "type": "float"
        },
        {
         "name": "FFC_fault_tolerance_m_e_0.5",
         "rawType": "float64",
         "type": "float"
        },
        {
         "name": "FFP_fault_tolerance_m_e_0.5",
         "rawType": "float64",
         "type": "float"
        },
        {
         "name": "Fcma_1_0.5_fault_tolerance_m",
         "rawType": "float64",
         "type": "float"
        },
        {
         "name": "Conlloovia_isolation_m",
         "rawType": "float64",
         "type": "float"
        },
        {
         "name": "FFC_isolation_m",
         "rawType": "float64",
         "type": "float"
        },
        {
         "name": "FFP_isolation_m",
         "rawType": "float64",
         "type": "float"
        },
        {
         "name": "Fcma_1_0.5_isolation_m",
         "rawType": "float64",
         "type": "float"
        },
        {
         "name": "Conlloovia_vm_recycling_m",
         "rawType": "float64",
         "type": "float"
        },
        {
         "name": "FFC_vm_recycling_m",
         "rawType": "float64",
         "type": "float"
        },
        {
         "name": "FFP_vm_recycling_m",
         "rawType": "float64",
         "type": "float"
        },
        {
         "name": "Fcma_1_0.5_vm_recycling_m",
         "rawType": "float64",
         "type": "float"
        },
        {
         "name": "Conlloovia_vm_load_balance_m",
         "rawType": "float64",
         "type": "float"
        },
        {
         "name": "FFC_vm_load_balance_m",
         "rawType": "float64",
         "type": "float"
        },
        {
         "name": "FFP_vm_load_balance_m",
         "rawType": "float64",
         "type": "float"
        },
        {
         "name": "Fcma_1_0.5_vm_load_balance_m",
         "rawType": "float64",
         "type": "float"
        },
        {
         "name": "Conlloovia status",
         "rawType": "object",
         "type": "string"
        },
        {
         "name": "FFC status",
         "rawType": "object",
         "type": "string"
        },
        {
         "name": "FFP status",
         "rawType": "object",
         "type": "string"
        },
        {
         "name": "FCMA status",
         "rawType": "object",
         "type": "string"
        },
        {
         "name": "ratio_cost_fcma_1_0.5_con",
         "rawType": "float64",
         "type": "float"
        },
        {
         "name": "ratio_cost_fcma_bound",
         "rawType": "float64",
         "type": "float"
        },
        {
         "name": "ratio_cost_ffc_con",
         "rawType": "float64",
         "type": "float"
        },
        {
         "name": "ratio_cost_ffp_con",
         "rawType": "float64",
         "type": "float"
        },
        {
         "name": "ratio_cost_con_fcma_1_0.5",
         "rawType": "float64",
         "type": "float"
        },
        {
         "name": "ratio_cost_ffc_fcma_1_0.5",
         "rawType": "float64",
         "type": "float"
        },
        {
         "name": "ratio_cost_ffp_fcma_1_0.5",
         "rawType": "float64",
         "type": "float"
        },
        {
         "name": "Conlloovia_total_time_s",
         "rawType": "float64",
         "type": "float"
        },
        {
         "name": "FFC_total_time_s",
         "rawType": "float64",
         "type": "float"
        },
        {
         "name": "FFP_total_time_s",
         "rawType": "float64",
         "type": "float"
        },
        {
         "name": "Fcma_1_0.5_total_time_s",
         "rawType": "float64",
         "type": "float"
        }
       ],
       "conversionMethod": "pd.DataFrame",
       "ref": "1d69c6e1-008f-483e-a023-295973564ceb",
       "rows": [
        [
         "56",
         "56",
         "15",
         "4",
         "0.12",
         "2",
         "0.02",
         "0.02",
         "False",
         "1012051",
         "INTEGER_FEASIBLE",
         "6.832",
         "6.959599999999999",
         "9.03368",
         "52.8576",
         "55.69900000000028",
         "7.23872",
         "62.0459",
         "621.247",
         "0.0123",
         "0.5729",
         "0.0118",
         "1.4332",
         "0.5584",
         "0.1212",
         "0.0666666666666666",
         "0.0",
         "1.0",
         "0.4666666666666667",
         "0.0748396079896178",
         "0.0020017171929646",
         "0.1674925627743452",
         "0.2057703081232493",
         "0.0",
         "0.0",
         "0.0",
         "0.4705882352941176",
         "0.2",
         "0.2",
         "0.001310615989515",
         "0.3555555555555555",
         "Feasible",
         "Feasible",
         "Feasible",
         "Feasible",
         "0.8013035662100052",
         "1.0401057532042073",
         "5.85117028719193",
         "6.1657043419736235",
         "1.2479664913133814",
         "7.302064453384023",
         "7.694592414128504",
         "683.2928999999999",
         "0.5851999999999999",
         "1.445",
         "0.6796"
        ]
       ],
       "shape": {
        "columns": 55,
        "rows": 1
       }
      },
      "text/html": [
       "<div>\n",
       "<style scoped>\n",
       "    .dataframe tbody tr th:only-of-type {\n",
       "        vertical-align: middle;\n",
       "    }\n",
       "\n",
       "    .dataframe tbody tr th {\n",
       "        vertical-align: top;\n",
       "    }\n",
       "\n",
       "    .dataframe thead th {\n",
       "        text-align: right;\n",
       "    }\n",
       "</style>\n",
       "<table border=\"1\" class=\"dataframe\">\n",
       "  <thead>\n",
       "    <tr style=\"text-align: right;\">\n",
       "      <th></th>\n",
       "      <th>exp</th>\n",
       "      <th>napps</th>\n",
       "      <th>n_fam</th>\n",
       "      <th>cores</th>\n",
       "      <th>mem_mul</th>\n",
       "      <th>perf</th>\n",
       "      <th>frac_gap</th>\n",
       "      <th>add_ccs</th>\n",
       "      <th>Conlloovia_vars</th>\n",
       "      <th>Conlloovia_status</th>\n",
       "      <th>...</th>\n",
       "      <th>ratio_cost_fcma_bound</th>\n",
       "      <th>ratio_cost_ffc_con</th>\n",
       "      <th>ratio_cost_ffp_con</th>\n",
       "      <th>ratio_cost_con_fcma_1_0.5</th>\n",
       "      <th>ratio_cost_ffc_fcma_1_0.5</th>\n",
       "      <th>ratio_cost_ffp_fcma_1_0.5</th>\n",
       "      <th>Conlloovia_total_time_s</th>\n",
       "      <th>FFC_total_time_s</th>\n",
       "      <th>FFP_total_time_s</th>\n",
       "      <th>Fcma_1_0.5_total_time_s</th>\n",
       "    </tr>\n",
       "  </thead>\n",
       "  <tbody>\n",
       "    <tr>\n",
       "      <th>56</th>\n",
       "      <td>56</td>\n",
       "      <td>15</td>\n",
       "      <td>4</td>\n",
       "      <td>0.12</td>\n",
       "      <td>2</td>\n",
       "      <td>0.02</td>\n",
       "      <td>0.02</td>\n",
       "      <td>False</td>\n",
       "      <td>1012051</td>\n",
       "      <td>INTEGER_FEASIBLE</td>\n",
       "      <td>...</td>\n",
       "      <td>1.040106</td>\n",
       "      <td>5.85117</td>\n",
       "      <td>6.165704</td>\n",
       "      <td>1.247966</td>\n",
       "      <td>7.302064</td>\n",
       "      <td>7.694592</td>\n",
       "      <td>683.2929</td>\n",
       "      <td>0.5852</td>\n",
       "      <td>1.445</td>\n",
       "      <td>0.6796</td>\n",
       "    </tr>\n",
       "  </tbody>\n",
       "</table>\n",
       "<p>1 rows × 55 columns</p>\n",
       "</div>"
      ],
      "text/plain": [
       "    exp  napps  n_fam  cores  mem_mul  perf  frac_gap  add_ccs  \\\n",
       "56   56     15      4   0.12        2  0.02      0.02    False   \n",
       "\n",
       "    Conlloovia_vars Conlloovia_status  ...  ratio_cost_fcma_bound  \\\n",
       "56          1012051  INTEGER_FEASIBLE  ...               1.040106   \n",
       "\n",
       "    ratio_cost_ffc_con  ratio_cost_ffp_con  ratio_cost_con_fcma_1_0.5  \\\n",
       "56             5.85117            6.165704                   1.247966   \n",
       "\n",
       "    ratio_cost_ffc_fcma_1_0.5  ratio_cost_ffp_fcma_1_0.5  \\\n",
       "56                   7.302064                   7.694592   \n",
       "\n",
       "    Conlloovia_total_time_s  FFC_total_time_s  FFP_total_time_s  \\\n",
       "56                 683.2929            0.5852             1.445   \n",
       "\n",
       "    Fcma_1_0.5_total_time_s  \n",
       "56                   0.6796  \n",
       "\n",
       "[1 rows x 55 columns]"
      ]
     },
     "execution_count": 12,
     "metadata": {},
     "output_type": "execute_result"
    }
   ],
   "source": [
    "df.loc[df[\"Conlloovia status\"].isin([\"Optimal\", \"Feasible\"])].sort_values(\"Conlloovia_vars\", ascending=False).head(1)"
   ]
  },
  {
   "cell_type": "markdown",
   "metadata": {},
   "source": [
    "# Figures"
   ]
  },
  {
   "cell_type": "code",
   "execution_count": 13,
   "metadata": {},
   "outputs": [
    {
     "data": {
      "application/vnd.microsoft.datawrangler.viewer.v0+json": {
       "columns": [
        {
         "name": "index",
         "rawType": "int64",
         "type": "integer"
        },
        {
         "name": "Conlloovia_vars",
         "rawType": "int64",
         "type": "integer"
        },
        {
         "name": "Conlloovia status",
         "rawType": "object",
         "type": "string"
        },
        {
         "name": "FCMA status",
         "rawType": "object",
         "type": "string"
        },
        {
         "name": "napps",
         "rawType": "int64",
         "type": "integer"
        },
        {
         "name": "ratio_type",
         "rawType": "object",
         "type": "string"
        },
        {
         "name": "ratio",
         "rawType": "float64",
         "type": "float"
        }
       ],
       "conversionMethod": "pd.DataFrame",
       "ref": "b6089ae1-cc9f-48fc-b3e8-fe03e49f38e5",
       "rows": [
        [
         "0",
         "1365",
         "Optimal",
         "Optimal",
         "1",
         "ratio_cost_fcma_bound",
         "1.0"
        ],
        [
         "1",
         "120",
         "Optimal",
         "Optimal",
         "1",
         "ratio_cost_fcma_bound",
         "1.0"
        ],
        [
         "2",
         "260",
         "Optimal",
         "Optimal",
         "1",
         "ratio_cost_fcma_bound",
         "1.0"
        ],
        [
         "3",
         "120",
         "Optimal",
         "Optimal",
         "1",
         "ratio_cost_fcma_bound",
         "1.0"
        ],
        [
         "4",
         "999",
         "Optimal",
         "Feasible",
         "1",
         "ratio_cost_fcma_bound",
         "1.020618556701031"
        ]
       ],
       "shape": {
        "columns": 6,
        "rows": 5
       }
      },
      "text/html": [
       "<div>\n",
       "<style scoped>\n",
       "    .dataframe tbody tr th:only-of-type {\n",
       "        vertical-align: middle;\n",
       "    }\n",
       "\n",
       "    .dataframe tbody tr th {\n",
       "        vertical-align: top;\n",
       "    }\n",
       "\n",
       "    .dataframe thead th {\n",
       "        text-align: right;\n",
       "    }\n",
       "</style>\n",
       "<table border=\"1\" class=\"dataframe\">\n",
       "  <thead>\n",
       "    <tr style=\"text-align: right;\">\n",
       "      <th></th>\n",
       "      <th>Conlloovia_vars</th>\n",
       "      <th>Conlloovia status</th>\n",
       "      <th>FCMA status</th>\n",
       "      <th>napps</th>\n",
       "      <th>ratio_type</th>\n",
       "      <th>ratio</th>\n",
       "    </tr>\n",
       "  </thead>\n",
       "  <tbody>\n",
       "    <tr>\n",
       "      <th>0</th>\n",
       "      <td>1365</td>\n",
       "      <td>Optimal</td>\n",
       "      <td>Optimal</td>\n",
       "      <td>1</td>\n",
       "      <td>ratio_cost_fcma_bound</td>\n",
       "      <td>1.000000</td>\n",
       "    </tr>\n",
       "    <tr>\n",
       "      <th>1</th>\n",
       "      <td>120</td>\n",
       "      <td>Optimal</td>\n",
       "      <td>Optimal</td>\n",
       "      <td>1</td>\n",
       "      <td>ratio_cost_fcma_bound</td>\n",
       "      <td>1.000000</td>\n",
       "    </tr>\n",
       "    <tr>\n",
       "      <th>2</th>\n",
       "      <td>260</td>\n",
       "      <td>Optimal</td>\n",
       "      <td>Optimal</td>\n",
       "      <td>1</td>\n",
       "      <td>ratio_cost_fcma_bound</td>\n",
       "      <td>1.000000</td>\n",
       "    </tr>\n",
       "    <tr>\n",
       "      <th>3</th>\n",
       "      <td>120</td>\n",
       "      <td>Optimal</td>\n",
       "      <td>Optimal</td>\n",
       "      <td>1</td>\n",
       "      <td>ratio_cost_fcma_bound</td>\n",
       "      <td>1.000000</td>\n",
       "    </tr>\n",
       "    <tr>\n",
       "      <th>4</th>\n",
       "      <td>999</td>\n",
       "      <td>Optimal</td>\n",
       "      <td>Feasible</td>\n",
       "      <td>1</td>\n",
       "      <td>ratio_cost_fcma_bound</td>\n",
       "      <td>1.020619</td>\n",
       "    </tr>\n",
       "  </tbody>\n",
       "</table>\n",
       "</div>"
      ],
      "text/plain": [
       "   Conlloovia_vars Conlloovia status FCMA status  napps  \\\n",
       "0             1365           Optimal     Optimal      1   \n",
       "1              120           Optimal     Optimal      1   \n",
       "2              260           Optimal     Optimal      1   \n",
       "3              120           Optimal     Optimal      1   \n",
       "4              999           Optimal    Feasible      1   \n",
       "\n",
       "              ratio_type     ratio  \n",
       "0  ratio_cost_fcma_bound  1.000000  \n",
       "1  ratio_cost_fcma_bound  1.000000  \n",
       "2  ratio_cost_fcma_bound  1.000000  \n",
       "3  ratio_cost_fcma_bound  1.000000  \n",
       "4  ratio_cost_fcma_bound  1.020619  "
      ]
     },
     "execution_count": 13,
     "metadata": {},
     "output_type": "execute_result"
    }
   ],
   "source": [
    "# Put the data frame in the long format\n",
    "df_long = pd.melt(\n",
    "    df,\n",
    "    id_vars=[\"Conlloovia_vars\", \"Conlloovia status\", \"FCMA status\", \"napps\"],\n",
    "    value_vars=[\"ratio_cost_fcma_bound\", \"ratio_cost_con_fcma_1_0.5\", \"ratio_cost_ffc_fcma_1_0.5\", \"ratio_cost_ffp_fcma_1_0.5\"],\n",
    "    var_name=\"ratio_type\",\n",
    "    value_name=\"ratio\",\n",
    ")\n",
    "\n",
    "df_long.head()"
   ]
  },
  {
   "cell_type": "code",
   "execution_count": 14,
   "metadata": {},
   "outputs": [
    {
     "data": {
      "image/png": "[encoded data removed]",
      "text/plain": [
       "<Figure size 848.875x325 with 3 Axes>"
      ]
     },
     "metadata": {},
     "output_type": "display_data"
    }
   ],
   "source": [
    "# Plot the ratio of the other algorithms to FCMA vs the problem size\n",
    "ratios = [\"ratio_cost_con_fcma_1_0.5\", \"ratio_cost_ffc_fcma_1_0.5\", \"ratio_cost_ffp_fcma_1_0.5\"]\n",
    "data_fig1 = df_long[(df_long[\"ratio_type\"].isin(ratios))].copy()\n",
    "\n",
    "short_names = [\"Conlloovia/FCMA\", \"FFC/FCMA\", \"FFP/FCMA\"]\n",
    "data_fig1[\"ratio_type\"] = data_fig1[\"ratio_type\"].str.replace(\"ratio_cost_con_fcma_1_0.5\", short_names[0])\n",
    "data_fig1[\"ratio_type\"] = data_fig1[\"ratio_type\"].str.replace(\"ratio_cost_ffc_fcma_1_0.5\", short_names[1])\n",
    "data_fig1[\"ratio_type\"] = data_fig1[\"ratio_type\"].str.replace(\"ratio_cost_ffp_fcma_1_0.5\", short_names[2])\n",
    "\n",
    "g = sns.relplot(\n",
    "    x=\"Conlloovia_vars\",\n",
    "    y=\"ratio\",\n",
    "    hue=\"ratio_type\",\n",
    "    style=\"ratio_type\",\n",
    "    col=\"ratio_type\",\n",
    "    kind=\"scatter\",\n",
    "    data=data_fig1,\n",
    "    s=50, # size of the markers\n",
    "    aspect=0.7,\n",
    "    height=3.25,\n",
    "    palette={short_names[0]: \"#2ca02c\", short_names[1]: \"#1133a3\", short_names[2]: \"#ff7f0e\"},\n",
    ")\n",
    "\n",
    "g.set_titles(\"{col_name}\")\n",
    "\n",
    "# g._legend.set_bbox_to_anchor((0.55, 0.38))  # Adjust the legend position\n",
    "g._legend.remove()\n",
    "\n",
    "# Use log for the x axis\n",
    "plt.xscale(\"log\")\n",
    "plt.yscale(\"log\")\n",
    "\n",
    "# Improve the name of the ratio types and the conlloovia status\n",
    "# plt.suptitle(\"Cost ratio FCMA/Conlloovia and FCMA/lower_bound vs problem size\")\n",
    "# plt.xlabel(\"Conlloovia variable count (log scale)\")\n",
    "g.set_xlabels(\"Problem size (log scale)\")\n",
    "g.set_ylabels(\"Cost ratio (log scale)\")\n",
    "\n",
    "# Use as ylabel in the first row \"Ratio FCMA/Conlloovia\"\n",
    "# for ax, title in zip(g.axes.flat, [\"Ratio FCMA/Conlloovia\"]):\n",
    "#     ax.set_ylabel(title)\n",
    "\n",
    "# Remove the titles of the rows\n",
    "# for ax in g.axes.flat:\n",
    "#     ax.set_title(\"\")\n",
    "\n",
    "# plt.legend(bbox_to_anchor=(0.25, 0.3), loc='upper center', borderaxespad=0., title=\"Conlloovia solution\").get_frame().set_facecolor('white')\n",
    "# plt.legend().get_frame().set_facecolor('white')\n",
    "\n",
    "# Move the legend right\n",
    "# plt.legend(loc='center left', bbox_to_anchor=(2, 0.5))\n",
    "\n",
    "\n",
    "# Add a grid\n",
    "# plt.grid()\n",
    "\n",
    "# Improve the axis to compare with the next plot\n",
    "# plt.ylim(0)\n",
    "# plt.xlim(0, 1e7)\n",
    "\n",
    "plt.tight_layout()\n",
    "\n",
    "plt.savefig(f\"res_cost_1.png\", dpi=600, bbox_inches='tight')"
   ]
  },
  {
   "cell_type": "code",
   "execution_count": 15,
   "metadata": {},
   "outputs": [
    {
     "name": "stdout",
     "output_type": "stream",
     "text": [
      "ratio_cost_con_fcma_1_0.5\n",
      "                               min       max\n",
      "ratio_type                                  \n",
      "ratio_cost_con_fcma_1_0.5  0.86939  2.786877\n",
      "ratio_cost_ffc_fcma_1_0.5\n",
      "                                min        max\n",
      "ratio_type                                    \n",
      "ratio_cost_ffc_fcma_1_0.5  0.983607  95.744756\n",
      "ratio_cost_ffp_fcma_1_0.5\n",
      "                           min       max\n",
      "ratio_type                              \n",
      "ratio_cost_ffp_fcma_1_0.5  1.0  27.95201\n"
     ]
    }
   ],
   "source": [
    "# Show the maximum and minimum ratio for each ratio type\n",
    "for ratio in ratios:\n",
    "    print(ratio)\n",
    "    print(df_long[df_long[\"ratio_type\"] == ratio].groupby(\"ratio_type\")[\"ratio\"].agg([\"min\", \"max\"]))   "
   ]
  },
  {
   "cell_type": "code",
   "execution_count": 16,
   "metadata": {},
   "outputs": [],
   "source": [
    "# Add a column indicating if Conlloovia found a solution (status is not \"No solution\").\n",
    "# The values should be \"Found\" and \"Not found\"\n",
    "df_long[\"Conlloovia solution\"] = df_long[\"Conlloovia status\"].map(\n",
    "    {\"No solution\": \"Not found\", \"Optimal\": \"Found\", \"Feasible\": \"Found\"}\n",
    ")"
   ]
  },
  {
   "cell_type": "code",
   "execution_count": 17,
   "metadata": {},
   "outputs": [
    {
     "data": {
      "image/png": "[encoded data removed]",
      "text/plain": [
       "<Figure size 533.75x320 with 1 Axes>"
      ]
     },
     "metadata": {},
     "output_type": "display_data"
    }
   ],
   "source": [
    "# Show the ratio of cost FCMA/lower_bound vs the problem size\n",
    "data_fig2 = df_long[df_long[\"ratio_type\"] == \"ratio_cost_fcma_bound\"]\n",
    "g = sns.relplot(\n",
    "    x=\"Conlloovia_vars\",\n",
    "    y=\"ratio\",\n",
    "    hue=\"Conlloovia solution\",\n",
    "    style=\"FCMA status\",\n",
    "    col=\"ratio_type\",\n",
    "    col_wrap=1,\n",
    "    kind=\"scatter\",\n",
    "    data=data_fig2,\n",
    "    s=50, # size of the markers\n",
    "    aspect=1.1,\n",
    "    height=3.2,\n",
    "    palette={\"Found\": \"#4365a1\", \"Not found\": \"#d62728\"},\n",
    ")\n",
    "\n",
    "# g._legend.set_bbox_to_anchor((0.55, 0.38))  # Adjust the legend position\n",
    "g._legend.remove()\n",
    "\n",
    "# Use log for the x axis\n",
    "plt.xscale(\"log\")\n",
    "\n",
    "# Improve the name of the ratio types and the conlloovia status\n",
    "# plt.suptitle(\"Cost ratio FCMA/Conlloovia and FCMA/lower_bound vs problem size\")\n",
    "# plt.xlabel(\"Conlloovia variable count (log scale)\")\n",
    "plt.xlabel(\"Problem size (log scale)\")\n",
    "\n",
    "# Use as ylabel in the first row \"Ratio FCMA/lower_bound\"\n",
    "for ax, title in zip(g.axes.flat, [\"Ratio FCMA/bound\"]):\n",
    "    ax.set_ylabel(title)\n",
    "\n",
    "# Remove the titles of the rows\n",
    "for ax in g.axes.flat:\n",
    "    ax.set_title(\"\")\n",
    "\n",
    "# Add a background color to the legend\n",
    "# g._legend.get_frame().set_facecolor('white')\n",
    "# g._legend.get_frame().set_alpha(1)\n",
    "\n",
    "legend_handles = [\n",
    "    mlines.Line2D([], [], color='#4365a1', marker='o', linestyle='None', markersize=5, label='FCMA optimal, Conlloovia finds a solution'),\n",
    "    mlines.Line2D([], [], color='#4365a1', marker='x', linestyle='None', markersize=5, label='FCMA Feasible, Conlloovia finds a solution'),\n",
    "    mlines.Line2D([], [], color='#d62728', marker='o', linestyle='None', markersize=5, label='FCMA Optimal, Conlloovia doesn\\'t find a solution'),\n",
    "    mlines.Line2D([], [], color='#d62728', marker='x', linestyle='None', markersize=5, label='FCMA Feasible, Conlloovia doesn\\'t find a solution'),\n",
    "]\n",
    "\n",
    "legend = plt.legend(handles=legend_handles, ncol=1, bbox_to_anchor=(0.5, 1), loc='lower center')\n",
    "legend.get_frame().set_facecolor('white')\n",
    "\n",
    "# Add a grid\n",
    "plt.grid()\n",
    "\n",
    "plt.tight_layout()\n",
    "plt.subplots_adjust(top=0.85)\n",
    "\n",
    "plt.savefig(f\"res_cost_2.png\", dpi=600, bbox_inches='tight')"
   ]
  },
  {
   "cell_type": "code",
   "execution_count": 18,
   "metadata": {},
   "outputs": [
    {
     "data": {
      "text/plain": [
       "Conlloovia_vars                       139779\n",
       "Conlloovia status                   Feasible\n",
       "FCMA status                         Feasible\n",
       "napps                                     15\n",
       "ratio_type             ratio_cost_fcma_bound\n",
       "ratio                               1.194669\n",
       "Conlloovia solution                    Found\n",
       "Name: 63, dtype: object"
      ]
     },
     "execution_count": 18,
     "metadata": {},
     "output_type": "execute_result"
    }
   ],
   "source": [
    "# Show the value where the ratio is the highest\n",
    "data_fig2.loc[data_fig2[\"ratio\"].idxmax()]"
   ]
  },
  {
   "cell_type": "code",
   "execution_count": 19,
   "metadata": {},
   "outputs": [
    {
     "data": {
      "image/png": "[encoded data removed]",
      "text/plain": [
       "<Figure size 700x500 with 1 Axes>"
      ]
     },
     "metadata": {},
     "output_type": "display_data"
    }
   ],
   "source": [
    "# Plot the total times\n",
    "df_total_times_long = pd.melt(\n",
    "        df,\n",
    "        id_vars=[\"Conlloovia_vars\"],\n",
    "        value_vars=[\n",
    "            \"Conlloovia_total_time_s\",\n",
    "            \"FFC_total_time_s\",\n",
    "            \"FFP_total_time_s\",\n",
    "            \"Fcma_1_0.5_total_time_s\",\n",
    "        ],\n",
    "        var_name=\"variable\",\n",
    "        value_name=\"value\",\n",
    "    )\n",
    "\n",
    "plt.figure(figsize=(7, 5))\n",
    "sns.scatterplot(\n",
    "    x=\"Conlloovia_vars\",\n",
    "    y=\"value\",\n",
    "    hue=\"variable\",\n",
    "    style=\"variable\",\n",
    "    alpha=0.8,\n",
    "    data=df_total_times_long,\n",
    "    palette={\"Conlloovia_total_time_s\": \"#f77189\", \n",
    "             \"FFC_total_time_s\": \"#f7941e\",\n",
    "             \"FFP_total_time_s\": \"#6a0dad\",\n",
    "             \"Fcma_1_0.5_total_time_s\": \"#36ada4\",\n",
    "             },\n",
    "    s=100, # size of the markers\n",
    ")\n",
    "\n",
    "# Use log for the x\n",
    "plt.xscale(\"log\")\n",
    "# plt.yscale(\"log\")\n",
    "\n",
    "plt.legend(loc=\"right\", bbox_to_anchor=(0.27, 0.85))\n",
    "\n",
    "# Improve the name of the ratio types and the conlloovia status\n",
    "plt.xlabel(\"Problem size (log scale)\")\n",
    "plt.ylabel(\"Total time (s)\")\n",
    "\n",
    "plt.grid()\n",
    "\n",
    "legend = plt.gca().get_legend()\n",
    "\n",
    "# Define the new labels\n",
    "new_labels = [\n",
    "    \"Conlloovia\",\n",
    "    \"FFC\",\n",
    "    \"FFP\",\n",
    "    \"FCMA\",\n",
    "]\n",
    "\n",
    "# Set the text of each legend item to the corresponding new label\n",
    "for t, l in zip(legend.texts, new_labels):\n",
    "    t.set_text(l)\n",
    "\n",
    "plt.savefig(f\"res_time.png\", dpi=600, bbox_inches='tight')"
   ]
  },
  {
   "cell_type": "code",
   "execution_count": 20,
   "metadata": {},
   "outputs": [
    {
     "name": "stdout",
     "output_type": "stream",
     "text": [
      "\\begin{tabular}{lrr}\n",
      "\\toprule\n",
      " & mean & max \\\\\n",
      "\\midrule\n",
      "Conlloovia & 383.82 & 1390.17 \\\\\n",
      "FFC & 0.50 & 4.89 \\\\\n",
      "FFP & 3.25 & 75.90 \\\\\n",
      "FCMA & 0.88 & 28.73 \\\\\n",
      "\\bottomrule\n",
      "\\end{tabular}\n",
      "\n"
     ]
    }
   ],
   "source": [
    "# Create a latex table with the average and maximum times (only total times)\n",
    "times = df[[\"Conlloovia_total_time_s\", \"FFC_total_time_s\", \"FFP_total_time_s\", \"Fcma_1_0.5_total_time_s\"]].agg(\n",
    "    [\"mean\", \"max\"]).rename(\n",
    "        columns={\n",
    "            \"Conlloovia_total_time_s\": \"Conlloovia\",\n",
    "            \"FFC_total_time_s\": \"FFC\",\n",
    "            \"FFP_total_time_s\": \"FFP\",\n",
    "            \"Fcma_1_0.5_total_time_s\": \"FCMA\"\n",
    "        })\n",
    "\n",
    "print(times.T.to_latex(float_format=\"%.2f\"))"
   ]
  },
  {
   "cell_type": "code",
   "execution_count": 21,
   "metadata": {},
   "outputs": [
    {
     "data": {
      "text/plain": [
       "exp                                            70\n",
       "napps                                          30\n",
       "n_fam                                           1\n",
       "cores                                         3.0\n",
       "mem_mul                                         8\n",
       "perf                                         0.02\n",
       "frac_gap                                     0.02\n",
       "add_ccs                                     False\n",
       "Conlloovia_vars                           2042646\n",
       "Conlloovia_status                         ABORTED\n",
       "Conlloovia_lower_bound_d_h               2406.115\n",
       "bound                                    2410.176\n",
       "Conlloovia_cost_d_h                           NaN\n",
       "FFC_cost_d_h                             3017.196\n",
       "FFP_cost_d_h                             3544.404\n",
       "Fcma_1_0.5_cost_d_h                      2583.456\n",
       "Conlloovia_creation_time_s               125.6235\n",
       "Conlloovia_solving_time_s                678.3809\n",
       "FFC_creation_time_s                        0.0059\n",
       "FFC_solving_time_s                          4.889\n",
       "FFP_creation_time_s                        0.0058\n",
       "FFP_solving_time_s                        65.0389\n",
       "Fcma_1_0.5_pre_alloc_time_s                0.1786\n",
       "Fcma_1_0.5_alloc_time_s                   28.5544\n",
       "Conlloovia_fault_tolerance_m_e_0.5            NaN\n",
       "FFC_fault_tolerance_m_e_0.5              0.766667\n",
       "FFP_fault_tolerance_m_e_0.5                   1.0\n",
       "Fcma_1_0.5_fault_tolerance_m             0.933333\n",
       "Conlloovia_isolation_m                        NaN\n",
       "FFC_isolation_m                          0.082268\n",
       "FFP_isolation_m                          0.996289\n",
       "Fcma_1_0.5_isolation_m                    0.15616\n",
       "Conlloovia_vm_recycling_m                     NaN\n",
       "FFC_vm_recycling_m                            0.0\n",
       "FFP_vm_recycling_m                            0.0\n",
       "Fcma_1_0.5_vm_recycling_m                0.535714\n",
       "Conlloovia_vm_load_balance_m                  NaN\n",
       "FFC_vm_load_balance_m                    0.005336\n",
       "FFP_vm_load_balance_m                    0.001872\n",
       "Fcma_1_0.5_vm_load_balance_m              0.15643\n",
       "Conlloovia status                     No solution\n",
       "FFC status                               Feasible\n",
       "FFP status                               Feasible\n",
       "FCMA status                              Feasible\n",
       "ratio_cost_fcma_1_0.5_con                     NaN\n",
       "ratio_cost_fcma_bound                    1.071895\n",
       "ratio_cost_ffc_con                            NaN\n",
       "ratio_cost_ffp_con                            NaN\n",
       "ratio_cost_con_fcma_1_0.5                     NaN\n",
       "ratio_cost_ffc_fcma_1_0.5                1.167891\n",
       "ratio_cost_ffp_fcma_1_0.5                1.371962\n",
       "Conlloovia_total_time_s                  804.0044\n",
       "FFC_total_time_s                           4.8949\n",
       "FFP_total_time_s                          65.0447\n",
       "Fcma_1_0.5_total_time_s                    28.733\n",
       "Name: 70, dtype: object"
      ]
     },
     "execution_count": 21,
     "metadata": {},
     "output_type": "execute_result"
    }
   ],
   "source": [
    "# Show the experiment where the FCMA time is the maximum\n",
    "df.loc[df[\"Fcma_1_0.5_total_time_s\"].idxmax()]"
   ]
  },
  {
   "cell_type": "code",
   "execution_count": 22,
   "metadata": {},
   "outputs": [],
   "source": [
    "# Obtain df_metrics_long, that has a column \"metric\" with the name of the metric (fault_tolerance_m, isolation_m, vm_load_balance_m and vm_recycling_m)\n",
    "# and another indicating the technique (Conlloovia or FCMA; for the latter, using FCAM_1_0.5) and a column \"value\" with the value of the metric.\n",
    "\n",
    "# Fix error in a column: Fcma_1_0.5_recycling_m should be Fcma_1_0.5_vm_recycling_m\n",
    "df = df.rename(columns={\"Fcma_1_0.5_recycling_m\": \"Fcma_1_0.5_vm_recycling_m\"})\n",
    "\n",
    "value_vars = []\n",
    "for algo in [\"Conlloovia\", \"FFC\", \"FFP\", \"Fcma_1_0.5\"]:\n",
    "    for metric in [\"fault_tolerance_m_e_0.5\", \"isolation_m\", \"vm_load_balance_m\", \"vm_recycling_m\"]:\n",
    "        if algo == \"Fcma_1_0.5\" and \"tolerance\" in metric:\n",
    "            metric = f\"fault_tolerance_m\"\n",
    "        value_vars.append(f\"{algo}_{metric}\")\n",
    "\n",
    "df_metrics_long = pd.melt(\n",
    "    df,\n",
    "    id_vars=[\"Conlloovia_vars\"],\n",
    "    value_vars=value_vars,\n",
    "    var_name=\"variable\",\n",
    "    value_name=\"value\",\n",
    ")\n",
    "\n",
    "def metric_from_var_name(var_name):\n",
    "    if \"fault_tolerance_m\" in var_name:\n",
    "        return \"Fault tolerance\"\n",
    "    elif \"isolation_m\" in var_name:\n",
    "        return \"Container isolation\"\n",
    "    elif \"vm_load_balance_m\" in var_name:\n",
    "        return \"Load balancing reduction\"\n",
    "    elif \"vm_recycling_m\" in var_name:\n",
    "        return \"Node recycling\"\n",
    "\n",
    "def technique_from_var_name(var_name):\n",
    "    if \"Fcma\" in var_name:\n",
    "        return \"FCMA\"\n",
    "    if \"Conlloovia\" in var_name:\n",
    "        return \"Conlloovia\"\n",
    "    if \"FFC\" in var_name:\n",
    "        return \"FFC\"\n",
    "    if \"FFP\" in var_name:\n",
    "        return \"FFP\"\n",
    "\n",
    "# Add to df_metrics_long the metric name and if it's about Conlloovia or FCMA\n",
    "df_metrics_long[\"metric\"] = df_metrics_long.variable.apply(lambda x: metric_from_var_name(x))\n",
    "df_metrics_long[\"technique\"] = df_metrics_long.variable.apply(lambda x: technique_from_var_name(x))"
   ]
  },
  {
   "cell_type": "code",
   "execution_count": 23,
   "metadata": {},
   "outputs": [
    {
     "data": {
      "application/vnd.microsoft.datawrangler.viewer.v0+json": {
       "columns": [
        {
         "name": "metric",
         "rawType": "object",
         "type": "string"
        },
        {
         "name": "Conlloovia",
         "rawType": "object",
         "type": "string"
        },
        {
         "name": "FFC",
         "rawType": "object",
         "type": "string"
        },
        {
         "name": "FFP",
         "rawType": "object",
         "type": "string"
        },
        {
         "name": "FCMA",
         "rawType": "object",
         "type": "string"
        }
       ],
       "conversionMethod": "pd.DataFrame",
       "ref": "936ff9f4-3342-4068-b4b5-1526ed4f733a",
       "rows": [
        [
         "Container isolation",
         "0.31 (0.24)",
         "0.07 (0.12)",
         "0.62 (0.40)",
         "0.31 (0.25)"
        ],
        [
         "Fault tolerance",
         "0.25 (0.36)",
         "0.26 (0.37)",
         "0.81 (0.30)",
         "0.42 (0.42)"
        ],
        [
         "Load balancing reduction",
         "0.38 (0.34)",
         "0.49 (0.42)",
         "0.09 (0.21)",
         "0.58 (0.31)"
        ],
        [
         "Node recycling",
         "0.27 (0.39)",
         "0.37 (0.46)",
         "0.09 (0.29)",
         "0.72 (0.34)"
        ]
       ],
       "shape": {
        "columns": 4,
        "rows": 4
       }
      },
      "text/html": [
       "<div>\n",
       "<style scoped>\n",
       "    .dataframe tbody tr th:only-of-type {\n",
       "        vertical-align: middle;\n",
       "    }\n",
       "\n",
       "    .dataframe tbody tr th {\n",
       "        vertical-align: top;\n",
       "    }\n",
       "\n",
       "    .dataframe thead th {\n",
       "        text-align: right;\n",
       "    }\n",
       "</style>\n",
       "<table border=\"1\" class=\"dataframe\">\n",
       "  <thead>\n",
       "    <tr style=\"text-align: right;\">\n",
       "      <th>technique</th>\n",
       "      <th>Conlloovia</th>\n",
       "      <th>FFC</th>\n",
       "      <th>FFP</th>\n",
       "      <th>FCMA</th>\n",
       "    </tr>\n",
       "    <tr>\n",
       "      <th>metric</th>\n",
       "      <th></th>\n",
       "      <th></th>\n",
       "      <th></th>\n",
       "      <th></th>\n",
       "    </tr>\n",
       "  </thead>\n",
       "  <tbody>\n",
       "    <tr>\n",
       "      <th>Container isolation</th>\n",
       "      <td>0.31 (0.24)</td>\n",
       "      <td>0.07 (0.12)</td>\n",
       "      <td>0.62 (0.40)</td>\n",
       "      <td>0.31 (0.25)</td>\n",
       "    </tr>\n",
       "    <tr>\n",
       "      <th>Fault tolerance</th>\n",
       "      <td>0.25 (0.36)</td>\n",
       "      <td>0.26 (0.37)</td>\n",
       "      <td>0.81 (0.30)</td>\n",
       "      <td>0.42 (0.42)</td>\n",
       "    </tr>\n",
       "    <tr>\n",
       "      <th>Load balancing reduction</th>\n",
       "      <td>0.38 (0.34)</td>\n",
       "      <td>0.49 (0.42)</td>\n",
       "      <td>0.09 (0.21)</td>\n",
       "      <td>0.58 (0.31)</td>\n",
       "    </tr>\n",
       "    <tr>\n",
       "      <th>Node recycling</th>\n",
       "      <td>0.27 (0.39)</td>\n",
       "      <td>0.37 (0.46)</td>\n",
       "      <td>0.09 (0.29)</td>\n",
       "      <td>0.72 (0.34)</td>\n",
       "    </tr>\n",
       "  </tbody>\n",
       "</table>\n",
       "</div>"
      ],
      "text/plain": [
       "technique                  Conlloovia          FFC          FFP         FCMA\n",
       "metric                                                                      \n",
       "Container isolation       0.31 (0.24)  0.07 (0.12)  0.62 (0.40)  0.31 (0.25)\n",
       "Fault tolerance           0.25 (0.36)  0.26 (0.37)  0.81 (0.30)  0.42 (0.42)\n",
       "Load balancing reduction  0.38 (0.34)  0.49 (0.42)  0.09 (0.21)  0.58 (0.31)\n",
       "Node recycling            0.27 (0.39)  0.37 (0.46)  0.09 (0.29)  0.72 (0.34)"
      ]
     },
     "execution_count": 23,
     "metadata": {},
     "output_type": "execute_result"
    }
   ],
   "source": [
    "# Show a table with the average and the standard deviation of the metrics for each\n",
    "# technique. In each cell, show the average and the standard deviation in parenthesis\n",
    "metric_summary = df_metrics_long.groupby([\"metric\", \"technique\"]).value.agg([\"mean\", \"std\"])\n",
    "\n",
    "# Format each cell as \"mean (std)\"\n",
    "formatted_summary = metric_summary.apply(lambda row: f\"{row['mean']:.2f} ({row['std']:.2f})\", axis=1)\n",
    "\n",
    "# Unstack to pivot the table, creating columns for techniques\n",
    "formatted_table = formatted_summary.unstack()\n",
    "\n",
    "# Reorder columns if needed\n",
    "formatted_table = formatted_table[['Conlloovia', 'FFC', 'FFP', 'FCMA']]\n",
    "\n",
    "# Display the table\n",
    "formatted_table"
   ]
  },
  {
   "cell_type": "code",
   "execution_count": 24,
   "metadata": {},
   "outputs": [
    {
     "name": "stdout",
     "output_type": "stream",
     "text": [
      "\\begin{tabular}{lllll}\n",
      "\\toprule\n",
      "technique & Conlloovia & FFC & FFP & FCMA \\\\\n",
      "metric &  &  &  &  \\\\\n",
      "\\midrule\n",
      "Container isolation & 0.31 (0.24) & 0.07 (0.12) & 0.62 (0.40) & 0.31 (0.25) \\\\\n",
      "Fault tolerance & 0.25 (0.36) & 0.26 (0.37) & 0.81 (0.30) & 0.42 (0.42) \\\\\n",
      "Load balancing reduction & 0.38 (0.34) & 0.49 (0.42) & 0.09 (0.21) & 0.58 (0.31) \\\\\n",
      "Node recycling & 0.27 (0.39) & 0.37 (0.46) & 0.09 (0.29) & 0.72 (0.34) \\\\\n",
      "\\bottomrule\n",
      "\\end{tabular}\n",
      "\n"
     ]
    }
   ],
   "source": [
    "# Generate the LaTeX code\n",
    "latex_code = formatted_table.to_latex(escape=True)\n",
    "print(latex_code)"
   ]
  },
  {
   "cell_type": "code",
   "execution_count": null,
   "metadata": {},
   "outputs": [],
   "source": []
  }
 ],
 "metadata": {
  "kernelspec": {
   "display_name": "fcma_exp",
   "language": "python",
   "name": "python3"
  },
  "language_info": {
   "codemirror_mode": {
    "name": "ipython",
    "version": 3
   },
   "file_extension": ".py",
   "mimetype": "text/x-python",
   "name": "python",
   "nbconvert_exporter": "python",
   "pygments_lexer": "ipython3",
   "version": "3.12.3"
  }
 },
 "nbformat": 4,
 "nbformat_minor": 2
}
